{
 "cells": [
  {
   "cell_type": "code",
   "execution_count": 1,
   "id": "30f2cd84",
   "metadata": {},
   "outputs": [],
   "source": [
    "import pyspark\n",
    "from pyspark.sql import SparkSession"
   ]
  },
  {
   "cell_type": "markdown",
   "id": "89d89e8e",
   "metadata": {},
   "source": [
    "### Creating App "
   ]
  },
  {
   "cell_type": "code",
   "execution_count": 2,
   "id": "2a4e3bca",
   "metadata": {},
   "outputs": [
    {
     "name": "stdout",
     "output_type": "stream",
     "text": [
      "22/06/16 21:13:23 WARN Utils: Your hostname, AbdulBaquiKhan resolves to a loopback address: 127.0.1.1; using 192.168.0.106 instead (on interface wlp0s20f3)\n",
      "22/06/16 21:13:23 WARN Utils: Set SPARK_LOCAL_IP if you need to bind to another address\n"
     ]
    },
    {
     "name": "stderr",
     "output_type": "stream",
     "text": [
      "Setting default log level to \"WARN\".\n",
      "To adjust logging level use sc.setLogLevel(newLevel). For SparkR, use setLogLevel(newLevel).\n"
     ]
    },
    {
     "name": "stdout",
     "output_type": "stream",
     "text": [
      "22/06/16 21:13:24 WARN NativeCodeLoader: Unable to load native-hadoop library for your platform... using builtin-java classes where applicable\n"
     ]
    }
   ],
   "source": [
    "spark = SparkSession.builder.appName('Practice').getOrCreate()"
   ]
  },
  {
   "cell_type": "code",
   "execution_count": 3,
   "id": "a1f2726d",
   "metadata": {},
   "outputs": [
    {
     "data": {
      "text/html": [
       "\n",
       "            <div>\n",
       "                <p><b>SparkSession - in-memory</b></p>\n",
       "                \n",
       "        <div>\n",
       "            <p><b>SparkContext</b></p>\n",
       "\n",
       "            <p><a href=\"http://192.168.0.106:4040\">Spark UI</a></p>\n",
       "\n",
       "            <dl>\n",
       "              <dt>Version</dt>\n",
       "                <dd><code>v3.3.0</code></dd>\n",
       "              <dt>Master</dt>\n",
       "                <dd><code>local[*]</code></dd>\n",
       "              <dt>AppName</dt>\n",
       "                <dd><code>Practice</code></dd>\n",
       "            </dl>\n",
       "        </div>\n",
       "        \n",
       "            </div>\n",
       "        "
      ],
      "text/plain": [
       "<pyspark.sql.session.SparkSession at 0x7ff5c3fd45e0>"
      ]
     },
     "execution_count": 3,
     "metadata": {},
     "output_type": "execute_result"
    }
   ],
   "source": [
    "spark"
   ]
  },
  {
   "cell_type": "markdown",
   "id": "55a0e00b",
   "metadata": {},
   "source": [
    "### Reading CSV File Using Spark"
   ]
  },
  {
   "cell_type": "code",
   "execution_count": 4,
   "id": "6ba23f23",
   "metadata": {},
   "outputs": [],
   "source": [
    "df_pyspark=spark.read.csv('data.csv')"
   ]
  },
  {
   "cell_type": "code",
   "execution_count": 5,
   "id": "fa7e77cc",
   "metadata": {},
   "outputs": [
    {
     "name": "stdout",
     "output_type": "stream",
     "text": [
      "+---------+---------+--------------------+--------+--------------+---------+----------+--------------+\n",
      "|      _c0|      _c1|                 _c2|     _c3|           _c4|      _c5|       _c6|           _c7|\n",
      "+---------+---------+--------------------+--------+--------------+---------+----------+--------------+\n",
      "|InvoiceNo|StockCode|         Description|Quantity|   InvoiceDate|UnitPrice|CustomerID|       Country|\n",
      "|   536365|   85123A|WHITE HANGING HEA...|       6|12/1/2010 8:26|     2.55|     17850|United Kingdom|\n",
      "|   536365|    71053| WHITE METAL LANTERN|       6|12/1/2010 8:26|     3.39|     17850|United Kingdom|\n",
      "|   536365|   84406B|CREAM CUPID HEART...|       8|12/1/2010 8:26|     2.75|     17850|United Kingdom|\n",
      "|   536365|   84029G|KNITTED UNION FLA...|       6|12/1/2010 8:26|     3.39|     17850|United Kingdom|\n",
      "|   536365|   84029E|RED WOOLLY HOTTIE...|       6|12/1/2010 8:26|     3.39|     17850|United Kingdom|\n",
      "|   536365|    22752|SET 7 BABUSHKA NE...|       2|12/1/2010 8:26|     7.65|     17850|United Kingdom|\n",
      "|   536365|    21730|GLASS STAR FROSTE...|       6|12/1/2010 8:26|     4.25|     17850|United Kingdom|\n",
      "|   536366|    22633|HAND WARMER UNION...|       6|12/1/2010 8:28|     1.85|     17850|United Kingdom|\n",
      "|   536366|    22632|HAND WARMER RED P...|       6|12/1/2010 8:28|     1.85|     17850|United Kingdom|\n",
      "|   536367|    84879|ASSORTED COLOUR B...|      32|12/1/2010 8:34|     1.69|     13047|United Kingdom|\n",
      "|   536367|    22745|POPPY'S PLAYHOUSE...|       6|12/1/2010 8:34|      2.1|     13047|United Kingdom|\n",
      "|   536367|    22748|POPPY'S PLAYHOUSE...|       6|12/1/2010 8:34|      2.1|     13047|United Kingdom|\n",
      "|   536367|    22749|FELTCRAFT PRINCES...|       8|12/1/2010 8:34|     3.75|     13047|United Kingdom|\n",
      "|   536367|    22310|IVORY KNITTED MUG...|       6|12/1/2010 8:34|     1.65|     13047|United Kingdom|\n",
      "|   536367|    84969|BOX OF 6 ASSORTED...|       6|12/1/2010 8:34|     4.25|     13047|United Kingdom|\n",
      "|   536367|    22623|BOX OF VINTAGE JI...|       3|12/1/2010 8:34|     4.95|     13047|United Kingdom|\n",
      "|   536367|    22622|BOX OF VINTAGE AL...|       2|12/1/2010 8:34|     9.95|     13047|United Kingdom|\n",
      "|   536367|    21754|HOME BUILDING BLO...|       3|12/1/2010 8:34|     5.95|     13047|United Kingdom|\n",
      "|   536367|    21755|LOVE BUILDING BLO...|       3|12/1/2010 8:34|     5.95|     13047|United Kingdom|\n",
      "+---------+---------+--------------------+--------+--------------+---------+----------+--------------+\n",
      "only showing top 20 rows\n",
      "\n"
     ]
    }
   ],
   "source": [
    "df_pyspark.show()"
   ]
  },
  {
   "cell_type": "markdown",
   "id": "ee9d4bee",
   "metadata": {},
   "source": [
    "### Reading CSV first row as Header"
   ]
  },
  {
   "cell_type": "code",
   "execution_count": 6,
   "id": "221eb4d6",
   "metadata": {},
   "outputs": [
    {
     "name": "stderr",
     "output_type": "stream",
     "text": [
      "                                                                                \r"
     ]
    },
    {
     "data": {
      "text/plain": [
       "DataFrame[InvoiceNo: string, StockCode: string, Description: string, Quantity: int, InvoiceDate: string, UnitPrice: double, CustomerID: int, Country: string]"
      ]
     },
     "execution_count": 6,
     "metadata": {},
     "output_type": "execute_result"
    }
   ],
   "source": [
    "df_pyspark= spark.read.csv('data.csv',header = True,inferSchema=True)\n",
    "df_pyspark"
   ]
  },
  {
   "cell_type": "code",
   "execution_count": 7,
   "id": "59888275",
   "metadata": {},
   "outputs": [
    {
     "name": "stdout",
     "output_type": "stream",
     "text": [
      "+---------+---------+--------------------+--------+--------------+---------+----------+--------------+\n",
      "|InvoiceNo|StockCode|         Description|Quantity|   InvoiceDate|UnitPrice|CustomerID|       Country|\n",
      "+---------+---------+--------------------+--------+--------------+---------+----------+--------------+\n",
      "|   536365|   85123A|WHITE HANGING HEA...|       6|12/1/2010 8:26|     2.55|     17850|United Kingdom|\n",
      "|   536365|    71053| WHITE METAL LANTERN|       6|12/1/2010 8:26|     3.39|     17850|United Kingdom|\n",
      "|   536365|   84406B|CREAM CUPID HEART...|       8|12/1/2010 8:26|     2.75|     17850|United Kingdom|\n",
      "|   536365|   84029G|KNITTED UNION FLA...|       6|12/1/2010 8:26|     3.39|     17850|United Kingdom|\n",
      "|   536365|   84029E|RED WOOLLY HOTTIE...|       6|12/1/2010 8:26|     3.39|     17850|United Kingdom|\n",
      "|   536365|    22752|SET 7 BABUSHKA NE...|       2|12/1/2010 8:26|     7.65|     17850|United Kingdom|\n",
      "|   536365|    21730|GLASS STAR FROSTE...|       6|12/1/2010 8:26|     4.25|     17850|United Kingdom|\n",
      "|   536366|    22633|HAND WARMER UNION...|       6|12/1/2010 8:28|     1.85|     17850|United Kingdom|\n",
      "|   536366|    22632|HAND WARMER RED P...|       6|12/1/2010 8:28|     1.85|     17850|United Kingdom|\n",
      "|   536367|    84879|ASSORTED COLOUR B...|      32|12/1/2010 8:34|     1.69|     13047|United Kingdom|\n",
      "|   536367|    22745|POPPY'S PLAYHOUSE...|       6|12/1/2010 8:34|      2.1|     13047|United Kingdom|\n",
      "|   536367|    22748|POPPY'S PLAYHOUSE...|       6|12/1/2010 8:34|      2.1|     13047|United Kingdom|\n",
      "|   536367|    22749|FELTCRAFT PRINCES...|       8|12/1/2010 8:34|     3.75|     13047|United Kingdom|\n",
      "|   536367|    22310|IVORY KNITTED MUG...|       6|12/1/2010 8:34|     1.65|     13047|United Kingdom|\n",
      "|   536367|    84969|BOX OF 6 ASSORTED...|       6|12/1/2010 8:34|     4.25|     13047|United Kingdom|\n",
      "|   536367|    22623|BOX OF VINTAGE JI...|       3|12/1/2010 8:34|     4.95|     13047|United Kingdom|\n",
      "|   536367|    22622|BOX OF VINTAGE AL...|       2|12/1/2010 8:34|     9.95|     13047|United Kingdom|\n",
      "|   536367|    21754|HOME BUILDING BLO...|       3|12/1/2010 8:34|     5.95|     13047|United Kingdom|\n",
      "|   536367|    21755|LOVE BUILDING BLO...|       3|12/1/2010 8:34|     5.95|     13047|United Kingdom|\n",
      "|   536367|    21777|RECIPE BOX WITH M...|       4|12/1/2010 8:34|     7.95|     13047|United Kingdom|\n",
      "+---------+---------+--------------------+--------+--------------+---------+----------+--------------+\n",
      "only showing top 20 rows\n",
      "\n"
     ]
    }
   ],
   "source": [
    "df_pyspark.show()"
   ]
  },
  {
   "cell_type": "markdown",
   "id": "6c69ae38",
   "metadata": {},
   "source": [
    "### Checking type of df_pyspark"
   ]
  },
  {
   "cell_type": "code",
   "execution_count": 8,
   "id": "056be1cb",
   "metadata": {},
   "outputs": [
    {
     "data": {
      "text/plain": [
       "pyspark.sql.dataframe.DataFrame"
      ]
     },
     "execution_count": 8,
     "metadata": {},
     "output_type": "execute_result"
    }
   ],
   "source": [
    "type(df_pyspark)"
   ]
  },
  {
   "cell_type": "markdown",
   "id": "8288a1f9",
   "metadata": {},
   "source": [
    "### Head"
   ]
  },
  {
   "cell_type": "code",
   "execution_count": 9,
   "id": "f7017354",
   "metadata": {},
   "outputs": [
    {
     "data": {
      "text/plain": [
       "Row(InvoiceNo='536365', StockCode='85123A', Description='WHITE HANGING HEART T-LIGHT HOLDER', Quantity=6, InvoiceDate='12/1/2010 8:26', UnitPrice=2.55, CustomerID=17850, Country='United Kingdom')"
      ]
     },
     "execution_count": 9,
     "metadata": {},
     "output_type": "execute_result"
    }
   ],
   "source": [
    "df_pyspark.head()"
   ]
  },
  {
   "cell_type": "markdown",
   "id": "53bb8096",
   "metadata": {},
   "source": [
    "### Showing Schema"
   ]
  },
  {
   "cell_type": "code",
   "execution_count": 10,
   "id": "506cc141",
   "metadata": {},
   "outputs": [
    {
     "name": "stdout",
     "output_type": "stream",
     "text": [
      "root\n",
      " |-- InvoiceNo: string (nullable = true)\n",
      " |-- StockCode: string (nullable = true)\n",
      " |-- Description: string (nullable = true)\n",
      " |-- Quantity: integer (nullable = true)\n",
      " |-- InvoiceDate: string (nullable = true)\n",
      " |-- UnitPrice: double (nullable = true)\n",
      " |-- CustomerID: integer (nullable = true)\n",
      " |-- Country: string (nullable = true)\n",
      "\n"
     ]
    }
   ],
   "source": [
    "df_pyspark.printSchema()"
   ]
  },
  {
   "cell_type": "markdown",
   "id": "420ed41a",
   "metadata": {},
   "source": [
    "### Getting Column Names"
   ]
  },
  {
   "cell_type": "code",
   "execution_count": 11,
   "id": "6b3231c9",
   "metadata": {},
   "outputs": [
    {
     "data": {
      "text/plain": [
       "['InvoiceNo',\n",
       " 'StockCode',\n",
       " 'Description',\n",
       " 'Quantity',\n",
       " 'InvoiceDate',\n",
       " 'UnitPrice',\n",
       " 'CustomerID',\n",
       " 'Country']"
      ]
     },
     "execution_count": 11,
     "metadata": {},
     "output_type": "execute_result"
    }
   ],
   "source": [
    "df_pyspark.columns"
   ]
  },
  {
   "cell_type": "markdown",
   "id": "1f362c00",
   "metadata": {},
   "source": [
    "### Selecting Columns "
   ]
  },
  {
   "cell_type": "code",
   "execution_count": 12,
   "id": "c7d667f3",
   "metadata": {},
   "outputs": [
    {
     "name": "stdout",
     "output_type": "stream",
     "text": [
      "+--------------------+--------+--------------+\n",
      "|         Description|Quantity|       Country|\n",
      "+--------------------+--------+--------------+\n",
      "|WHITE HANGING HEA...|       6|United Kingdom|\n",
      "| WHITE METAL LANTERN|       6|United Kingdom|\n",
      "|CREAM CUPID HEART...|       8|United Kingdom|\n",
      "|KNITTED UNION FLA...|       6|United Kingdom|\n",
      "|RED WOOLLY HOTTIE...|       6|United Kingdom|\n",
      "|SET 7 BABUSHKA NE...|       2|United Kingdom|\n",
      "|GLASS STAR FROSTE...|       6|United Kingdom|\n",
      "|HAND WARMER UNION...|       6|United Kingdom|\n",
      "|HAND WARMER RED P...|       6|United Kingdom|\n",
      "|ASSORTED COLOUR B...|      32|United Kingdom|\n",
      "|POPPY'S PLAYHOUSE...|       6|United Kingdom|\n",
      "|POPPY'S PLAYHOUSE...|       6|United Kingdom|\n",
      "|FELTCRAFT PRINCES...|       8|United Kingdom|\n",
      "|IVORY KNITTED MUG...|       6|United Kingdom|\n",
      "|BOX OF 6 ASSORTED...|       6|United Kingdom|\n",
      "|BOX OF VINTAGE JI...|       3|United Kingdom|\n",
      "|BOX OF VINTAGE AL...|       2|United Kingdom|\n",
      "|HOME BUILDING BLO...|       3|United Kingdom|\n",
      "|LOVE BUILDING BLO...|       3|United Kingdom|\n",
      "|RECIPE BOX WITH M...|       4|United Kingdom|\n",
      "+--------------------+--------+--------------+\n",
      "only showing top 20 rows\n",
      "\n"
     ]
    }
   ],
   "source": [
    "df_pyspark.select(['Description','Quantity','Country']).show()"
   ]
  },
  {
   "cell_type": "markdown",
   "id": "fda57a07",
   "metadata": {},
   "source": [
    "### Describe Function Usage"
   ]
  },
  {
   "cell_type": "code",
   "execution_count": 13,
   "id": "f483c05a",
   "metadata": {},
   "outputs": [
    {
     "name": "stderr",
     "output_type": "stream",
     "text": [
      "[Stage 7:============================================>              (6 + 2) / 8]\r"
     ]
    },
    {
     "name": "stdout",
     "output_type": "stream",
     "text": [
      "+-------+------------------+------------------+--------------------+------------------+---------------+------------------+------------------+-----------+\n",
      "|summary|         InvoiceNo|         StockCode|         Description|          Quantity|    InvoiceDate|         UnitPrice|        CustomerID|    Country|\n",
      "+-------+------------------+------------------+--------------------+------------------+---------------+------------------+------------------+-----------+\n",
      "|  count|            541909|            541909|              540455|            541909|         541909|            541909|            406829|     541909|\n",
      "|   mean|  559965.752026781|27623.240210938104|             20713.0|  9.55224954743324|           null|4.6111136260897085|15287.690570239585|       null|\n",
      "| stddev|13428.417280796779|16799.737628427658|                null|218.08115785023438|           null| 96.75985306117963|1713.6003033215982|       null|\n",
      "|    min|            536365|             10002| 4 PURPLE FLOCK D...|            -80995|1/10/2011 10:04|         -11062.06|             12346|  Australia|\n",
      "|    max|           C581569|                 m|   wrongly sold sets|             80995|  9/9/2011 9:52|           38970.0|             18287|Unspecified|\n",
      "+-------+------------------+------------------+--------------------+------------------+---------------+------------------+------------------+-----------+\n",
      "\n"
     ]
    },
    {
     "name": "stderr",
     "output_type": "stream",
     "text": [
      "\r",
      "                                                                                \r"
     ]
    }
   ],
   "source": [
    "df_pyspark.describe().show()"
   ]
  },
  {
   "cell_type": "markdown",
   "id": "9db0e42b",
   "metadata": {},
   "source": [
    "### Adding a Column"
   ]
  },
  {
   "cell_type": "code",
   "execution_count": 14,
   "id": "2d5e973c",
   "metadata": {},
   "outputs": [],
   "source": [
    "df_pyspark = df_pyspark.withColumn('Quantity + 12',df_pyspark['Quantity']+12)"
   ]
  },
  {
   "cell_type": "code",
   "execution_count": 15,
   "id": "e047a00e",
   "metadata": {},
   "outputs": [
    {
     "name": "stdout",
     "output_type": "stream",
     "text": [
      "+---------+---------+--------------------+--------+--------------+---------+----------+--------------+-------------+\n",
      "|InvoiceNo|StockCode|         Description|Quantity|   InvoiceDate|UnitPrice|CustomerID|       Country|Quantity + 12|\n",
      "+---------+---------+--------------------+--------+--------------+---------+----------+--------------+-------------+\n",
      "|   536365|   85123A|WHITE HANGING HEA...|       6|12/1/2010 8:26|     2.55|     17850|United Kingdom|           18|\n",
      "|   536365|    71053| WHITE METAL LANTERN|       6|12/1/2010 8:26|     3.39|     17850|United Kingdom|           18|\n",
      "|   536365|   84406B|CREAM CUPID HEART...|       8|12/1/2010 8:26|     2.75|     17850|United Kingdom|           20|\n",
      "|   536365|   84029G|KNITTED UNION FLA...|       6|12/1/2010 8:26|     3.39|     17850|United Kingdom|           18|\n",
      "|   536365|   84029E|RED WOOLLY HOTTIE...|       6|12/1/2010 8:26|     3.39|     17850|United Kingdom|           18|\n",
      "|   536365|    22752|SET 7 BABUSHKA NE...|       2|12/1/2010 8:26|     7.65|     17850|United Kingdom|           14|\n",
      "|   536365|    21730|GLASS STAR FROSTE...|       6|12/1/2010 8:26|     4.25|     17850|United Kingdom|           18|\n",
      "|   536366|    22633|HAND WARMER UNION...|       6|12/1/2010 8:28|     1.85|     17850|United Kingdom|           18|\n",
      "|   536366|    22632|HAND WARMER RED P...|       6|12/1/2010 8:28|     1.85|     17850|United Kingdom|           18|\n",
      "|   536367|    84879|ASSORTED COLOUR B...|      32|12/1/2010 8:34|     1.69|     13047|United Kingdom|           44|\n",
      "|   536367|    22745|POPPY'S PLAYHOUSE...|       6|12/1/2010 8:34|      2.1|     13047|United Kingdom|           18|\n",
      "|   536367|    22748|POPPY'S PLAYHOUSE...|       6|12/1/2010 8:34|      2.1|     13047|United Kingdom|           18|\n",
      "|   536367|    22749|FELTCRAFT PRINCES...|       8|12/1/2010 8:34|     3.75|     13047|United Kingdom|           20|\n",
      "|   536367|    22310|IVORY KNITTED MUG...|       6|12/1/2010 8:34|     1.65|     13047|United Kingdom|           18|\n",
      "|   536367|    84969|BOX OF 6 ASSORTED...|       6|12/1/2010 8:34|     4.25|     13047|United Kingdom|           18|\n",
      "|   536367|    22623|BOX OF VINTAGE JI...|       3|12/1/2010 8:34|     4.95|     13047|United Kingdom|           15|\n",
      "|   536367|    22622|BOX OF VINTAGE AL...|       2|12/1/2010 8:34|     9.95|     13047|United Kingdom|           14|\n",
      "|   536367|    21754|HOME BUILDING BLO...|       3|12/1/2010 8:34|     5.95|     13047|United Kingdom|           15|\n",
      "|   536367|    21755|LOVE BUILDING BLO...|       3|12/1/2010 8:34|     5.95|     13047|United Kingdom|           15|\n",
      "|   536367|    21777|RECIPE BOX WITH M...|       4|12/1/2010 8:34|     7.95|     13047|United Kingdom|           16|\n",
      "+---------+---------+--------------------+--------+--------------+---------+----------+--------------+-------------+\n",
      "only showing top 20 rows\n",
      "\n"
     ]
    }
   ],
   "source": [
    "df_pyspark.show()"
   ]
  },
  {
   "cell_type": "markdown",
   "id": "13fbe52f",
   "metadata": {},
   "source": [
    "### Droping a column"
   ]
  },
  {
   "cell_type": "code",
   "execution_count": 16,
   "id": "1257b00d",
   "metadata": {},
   "outputs": [
    {
     "name": "stdout",
     "output_type": "stream",
     "text": [
      "+---------+--------------------+--------+--------------+---------+----------+--------------+-------------+\n",
      "|StockCode|         Description|Quantity|   InvoiceDate|UnitPrice|CustomerID|       Country|Quantity + 12|\n",
      "+---------+--------------------+--------+--------------+---------+----------+--------------+-------------+\n",
      "|   85123A|WHITE HANGING HEA...|       6|12/1/2010 8:26|     2.55|     17850|United Kingdom|           18|\n",
      "|    71053| WHITE METAL LANTERN|       6|12/1/2010 8:26|     3.39|     17850|United Kingdom|           18|\n",
      "|   84406B|CREAM CUPID HEART...|       8|12/1/2010 8:26|     2.75|     17850|United Kingdom|           20|\n",
      "|   84029G|KNITTED UNION FLA...|       6|12/1/2010 8:26|     3.39|     17850|United Kingdom|           18|\n",
      "|   84029E|RED WOOLLY HOTTIE...|       6|12/1/2010 8:26|     3.39|     17850|United Kingdom|           18|\n",
      "|    22752|SET 7 BABUSHKA NE...|       2|12/1/2010 8:26|     7.65|     17850|United Kingdom|           14|\n",
      "|    21730|GLASS STAR FROSTE...|       6|12/1/2010 8:26|     4.25|     17850|United Kingdom|           18|\n",
      "|    22633|HAND WARMER UNION...|       6|12/1/2010 8:28|     1.85|     17850|United Kingdom|           18|\n",
      "|    22632|HAND WARMER RED P...|       6|12/1/2010 8:28|     1.85|     17850|United Kingdom|           18|\n",
      "|    84879|ASSORTED COLOUR B...|      32|12/1/2010 8:34|     1.69|     13047|United Kingdom|           44|\n",
      "|    22745|POPPY'S PLAYHOUSE...|       6|12/1/2010 8:34|      2.1|     13047|United Kingdom|           18|\n",
      "|    22748|POPPY'S PLAYHOUSE...|       6|12/1/2010 8:34|      2.1|     13047|United Kingdom|           18|\n",
      "|    22749|FELTCRAFT PRINCES...|       8|12/1/2010 8:34|     3.75|     13047|United Kingdom|           20|\n",
      "|    22310|IVORY KNITTED MUG...|       6|12/1/2010 8:34|     1.65|     13047|United Kingdom|           18|\n",
      "|    84969|BOX OF 6 ASSORTED...|       6|12/1/2010 8:34|     4.25|     13047|United Kingdom|           18|\n",
      "|    22623|BOX OF VINTAGE JI...|       3|12/1/2010 8:34|     4.95|     13047|United Kingdom|           15|\n",
      "|    22622|BOX OF VINTAGE AL...|       2|12/1/2010 8:34|     9.95|     13047|United Kingdom|           14|\n",
      "|    21754|HOME BUILDING BLO...|       3|12/1/2010 8:34|     5.95|     13047|United Kingdom|           15|\n",
      "|    21755|LOVE BUILDING BLO...|       3|12/1/2010 8:34|     5.95|     13047|United Kingdom|           15|\n",
      "|    21777|RECIPE BOX WITH M...|       4|12/1/2010 8:34|     7.95|     13047|United Kingdom|           16|\n",
      "+---------+--------------------+--------+--------------+---------+----------+--------------+-------------+\n",
      "only showing top 20 rows\n",
      "\n"
     ]
    }
   ],
   "source": [
    "df_pyspark.drop('InvoiceNo').show()"
   ]
  },
  {
   "cell_type": "markdown",
   "id": "bf43c752",
   "metadata": {},
   "source": [
    "### Renaming Column Name"
   ]
  },
  {
   "cell_type": "code",
   "execution_count": 17,
   "id": "cd030c8f",
   "metadata": {},
   "outputs": [],
   "source": [
    "df_pyspark= df_pyspark.withColumnRenamed('UnitPrice','Price')"
   ]
  },
  {
   "cell_type": "code",
   "execution_count": 18,
   "id": "11946ad6",
   "metadata": {},
   "outputs": [
    {
     "name": "stdout",
     "output_type": "stream",
     "text": [
      "+---------+---------+--------------------+--------+--------------+-----+----------+--------------+-------------+\n",
      "|InvoiceNo|StockCode|         Description|Quantity|   InvoiceDate|Price|CustomerID|       Country|Quantity + 12|\n",
      "+---------+---------+--------------------+--------+--------------+-----+----------+--------------+-------------+\n",
      "|   536365|   85123A|WHITE HANGING HEA...|       6|12/1/2010 8:26| 2.55|     17850|United Kingdom|           18|\n",
      "|   536365|    71053| WHITE METAL LANTERN|       6|12/1/2010 8:26| 3.39|     17850|United Kingdom|           18|\n",
      "|   536365|   84406B|CREAM CUPID HEART...|       8|12/1/2010 8:26| 2.75|     17850|United Kingdom|           20|\n",
      "|   536365|   84029G|KNITTED UNION FLA...|       6|12/1/2010 8:26| 3.39|     17850|United Kingdom|           18|\n",
      "|   536365|   84029E|RED WOOLLY HOTTIE...|       6|12/1/2010 8:26| 3.39|     17850|United Kingdom|           18|\n",
      "|   536365|    22752|SET 7 BABUSHKA NE...|       2|12/1/2010 8:26| 7.65|     17850|United Kingdom|           14|\n",
      "|   536365|    21730|GLASS STAR FROSTE...|       6|12/1/2010 8:26| 4.25|     17850|United Kingdom|           18|\n",
      "|   536366|    22633|HAND WARMER UNION...|       6|12/1/2010 8:28| 1.85|     17850|United Kingdom|           18|\n",
      "|   536366|    22632|HAND WARMER RED P...|       6|12/1/2010 8:28| 1.85|     17850|United Kingdom|           18|\n",
      "|   536367|    84879|ASSORTED COLOUR B...|      32|12/1/2010 8:34| 1.69|     13047|United Kingdom|           44|\n",
      "|   536367|    22745|POPPY'S PLAYHOUSE...|       6|12/1/2010 8:34|  2.1|     13047|United Kingdom|           18|\n",
      "|   536367|    22748|POPPY'S PLAYHOUSE...|       6|12/1/2010 8:34|  2.1|     13047|United Kingdom|           18|\n",
      "|   536367|    22749|FELTCRAFT PRINCES...|       8|12/1/2010 8:34| 3.75|     13047|United Kingdom|           20|\n",
      "|   536367|    22310|IVORY KNITTED MUG...|       6|12/1/2010 8:34| 1.65|     13047|United Kingdom|           18|\n",
      "|   536367|    84969|BOX OF 6 ASSORTED...|       6|12/1/2010 8:34| 4.25|     13047|United Kingdom|           18|\n",
      "|   536367|    22623|BOX OF VINTAGE JI...|       3|12/1/2010 8:34| 4.95|     13047|United Kingdom|           15|\n",
      "|   536367|    22622|BOX OF VINTAGE AL...|       2|12/1/2010 8:34| 9.95|     13047|United Kingdom|           14|\n",
      "|   536367|    21754|HOME BUILDING BLO...|       3|12/1/2010 8:34| 5.95|     13047|United Kingdom|           15|\n",
      "|   536367|    21755|LOVE BUILDING BLO...|       3|12/1/2010 8:34| 5.95|     13047|United Kingdom|           15|\n",
      "|   536367|    21777|RECIPE BOX WITH M...|       4|12/1/2010 8:34| 7.95|     13047|United Kingdom|           16|\n",
      "+---------+---------+--------------------+--------+--------------+-----+----------+--------------+-------------+\n",
      "only showing top 20 rows\n",
      "\n"
     ]
    }
   ],
   "source": [
    "df_pyspark.show()"
   ]
  },
  {
   "cell_type": "markdown",
   "id": "f4d2aff0",
   "metadata": {},
   "source": [
    "### Removing Null Values"
   ]
  },
  {
   "cell_type": "code",
   "execution_count": 19,
   "id": "86a6d7d4",
   "metadata": {},
   "outputs": [
    {
     "name": "stdout",
     "output_type": "stream",
     "text": [
      "+---------+---------+--------------------+--------+--------------+-----+----------+--------------+-------------+\n",
      "|InvoiceNo|StockCode|         Description|Quantity|   InvoiceDate|Price|CustomerID|       Country|Quantity + 12|\n",
      "+---------+---------+--------------------+--------+--------------+-----+----------+--------------+-------------+\n",
      "|   536365|   85123A|WHITE HANGING HEA...|       6|12/1/2010 8:26| 2.55|     17850|United Kingdom|           18|\n",
      "|   536365|    71053| WHITE METAL LANTERN|       6|12/1/2010 8:26| 3.39|     17850|United Kingdom|           18|\n",
      "|   536365|   84406B|CREAM CUPID HEART...|       8|12/1/2010 8:26| 2.75|     17850|United Kingdom|           20|\n",
      "|   536365|   84029G|KNITTED UNION FLA...|       6|12/1/2010 8:26| 3.39|     17850|United Kingdom|           18|\n",
      "|   536365|   84029E|RED WOOLLY HOTTIE...|       6|12/1/2010 8:26| 3.39|     17850|United Kingdom|           18|\n",
      "|   536365|    22752|SET 7 BABUSHKA NE...|       2|12/1/2010 8:26| 7.65|     17850|United Kingdom|           14|\n",
      "|   536365|    21730|GLASS STAR FROSTE...|       6|12/1/2010 8:26| 4.25|     17850|United Kingdom|           18|\n",
      "|   536366|    22633|HAND WARMER UNION...|       6|12/1/2010 8:28| 1.85|     17850|United Kingdom|           18|\n",
      "|   536366|    22632|HAND WARMER RED P...|       6|12/1/2010 8:28| 1.85|     17850|United Kingdom|           18|\n",
      "|   536367|    84879|ASSORTED COLOUR B...|      32|12/1/2010 8:34| 1.69|     13047|United Kingdom|           44|\n",
      "|   536367|    22745|POPPY'S PLAYHOUSE...|       6|12/1/2010 8:34|  2.1|     13047|United Kingdom|           18|\n",
      "|   536367|    22748|POPPY'S PLAYHOUSE...|       6|12/1/2010 8:34|  2.1|     13047|United Kingdom|           18|\n",
      "|   536367|    22749|FELTCRAFT PRINCES...|       8|12/1/2010 8:34| 3.75|     13047|United Kingdom|           20|\n",
      "|   536367|    22310|IVORY KNITTED MUG...|       6|12/1/2010 8:34| 1.65|     13047|United Kingdom|           18|\n",
      "|   536367|    84969|BOX OF 6 ASSORTED...|       6|12/1/2010 8:34| 4.25|     13047|United Kingdom|           18|\n",
      "|   536367|    22623|BOX OF VINTAGE JI...|       3|12/1/2010 8:34| 4.95|     13047|United Kingdom|           15|\n",
      "|   536367|    22622|BOX OF VINTAGE AL...|       2|12/1/2010 8:34| 9.95|     13047|United Kingdom|           14|\n",
      "|   536367|    21754|HOME BUILDING BLO...|       3|12/1/2010 8:34| 5.95|     13047|United Kingdom|           15|\n",
      "|   536367|    21755|LOVE BUILDING BLO...|       3|12/1/2010 8:34| 5.95|     13047|United Kingdom|           15|\n",
      "|   536367|    21777|RECIPE BOX WITH M...|       4|12/1/2010 8:34| 7.95|     13047|United Kingdom|           16|\n",
      "+---------+---------+--------------------+--------+--------------+-----+----------+--------------+-------------+\n",
      "only showing top 20 rows\n",
      "\n"
     ]
    }
   ],
   "source": [
    "df_pyspark.na.drop().show()"
   ]
  },
  {
   "cell_type": "code",
   "execution_count": 20,
   "id": "6e289fac",
   "metadata": {},
   "outputs": [
    {
     "name": "stdout",
     "output_type": "stream",
     "text": [
      "+---------+---------+--------------------+--------+--------------+-----+----------+--------------+-------------+\n",
      "|InvoiceNo|StockCode|         Description|Quantity|   InvoiceDate|Price|CustomerID|       Country|Quantity + 12|\n",
      "+---------+---------+--------------------+--------+--------------+-----+----------+--------------+-------------+\n",
      "|   536365|   85123A|WHITE HANGING HEA...|       6|12/1/2010 8:26| 2.55|     17850|United Kingdom|           18|\n",
      "|   536365|    71053| WHITE METAL LANTERN|       6|12/1/2010 8:26| 3.39|     17850|United Kingdom|           18|\n",
      "|   536365|   84406B|CREAM CUPID HEART...|       8|12/1/2010 8:26| 2.75|     17850|United Kingdom|           20|\n",
      "|   536365|   84029G|KNITTED UNION FLA...|       6|12/1/2010 8:26| 3.39|     17850|United Kingdom|           18|\n",
      "|   536365|   84029E|RED WOOLLY HOTTIE...|       6|12/1/2010 8:26| 3.39|     17850|United Kingdom|           18|\n",
      "|   536365|    22752|SET 7 BABUSHKA NE...|       2|12/1/2010 8:26| 7.65|     17850|United Kingdom|           14|\n",
      "|   536365|    21730|GLASS STAR FROSTE...|       6|12/1/2010 8:26| 4.25|     17850|United Kingdom|           18|\n",
      "|   536366|    22633|HAND WARMER UNION...|       6|12/1/2010 8:28| 1.85|     17850|United Kingdom|           18|\n",
      "|   536366|    22632|HAND WARMER RED P...|       6|12/1/2010 8:28| 1.85|     17850|United Kingdom|           18|\n",
      "|   536367|    84879|ASSORTED COLOUR B...|      32|12/1/2010 8:34| 1.69|     13047|United Kingdom|           44|\n",
      "|   536367|    22745|POPPY'S PLAYHOUSE...|       6|12/1/2010 8:34|  2.1|     13047|United Kingdom|           18|\n",
      "|   536367|    22748|POPPY'S PLAYHOUSE...|       6|12/1/2010 8:34|  2.1|     13047|United Kingdom|           18|\n",
      "|   536367|    22749|FELTCRAFT PRINCES...|       8|12/1/2010 8:34| 3.75|     13047|United Kingdom|           20|\n",
      "|   536367|    22310|IVORY KNITTED MUG...|       6|12/1/2010 8:34| 1.65|     13047|United Kingdom|           18|\n",
      "|   536367|    84969|BOX OF 6 ASSORTED...|       6|12/1/2010 8:34| 4.25|     13047|United Kingdom|           18|\n",
      "|   536367|    22623|BOX OF VINTAGE JI...|       3|12/1/2010 8:34| 4.95|     13047|United Kingdom|           15|\n",
      "|   536367|    22622|BOX OF VINTAGE AL...|       2|12/1/2010 8:34| 9.95|     13047|United Kingdom|           14|\n",
      "|   536367|    21754|HOME BUILDING BLO...|       3|12/1/2010 8:34| 5.95|     13047|United Kingdom|           15|\n",
      "|   536367|    21755|LOVE BUILDING BLO...|       3|12/1/2010 8:34| 5.95|     13047|United Kingdom|           15|\n",
      "|   536367|    21777|RECIPE BOX WITH M...|       4|12/1/2010 8:34| 7.95|     13047|United Kingdom|           16|\n",
      "+---------+---------+--------------------+--------+--------------+-----+----------+--------------+-------------+\n",
      "only showing top 20 rows\n",
      "\n"
     ]
    }
   ],
   "source": [
    "df_pyspark.na.drop(how='any').show()"
   ]
  },
  {
   "cell_type": "code",
   "execution_count": 21,
   "id": "13eec9a5",
   "metadata": {},
   "outputs": [
    {
     "name": "stdout",
     "output_type": "stream",
     "text": [
      "+---------+---------+--------------------+--------+--------------+-----+----------+--------------+-------------+\n",
      "|InvoiceNo|StockCode|         Description|Quantity|   InvoiceDate|Price|CustomerID|       Country|Quantity + 12|\n",
      "+---------+---------+--------------------+--------+--------------+-----+----------+--------------+-------------+\n",
      "|   536365|   85123A|WHITE HANGING HEA...|       6|12/1/2010 8:26| 2.55|     17850|United Kingdom|           18|\n",
      "|   536365|    71053| WHITE METAL LANTERN|       6|12/1/2010 8:26| 3.39|     17850|United Kingdom|           18|\n",
      "|   536365|   84406B|CREAM CUPID HEART...|       8|12/1/2010 8:26| 2.75|     17850|United Kingdom|           20|\n",
      "|   536365|   84029G|KNITTED UNION FLA...|       6|12/1/2010 8:26| 3.39|     17850|United Kingdom|           18|\n",
      "|   536365|   84029E|RED WOOLLY HOTTIE...|       6|12/1/2010 8:26| 3.39|     17850|United Kingdom|           18|\n",
      "|   536365|    22752|SET 7 BABUSHKA NE...|       2|12/1/2010 8:26| 7.65|     17850|United Kingdom|           14|\n",
      "|   536365|    21730|GLASS STAR FROSTE...|       6|12/1/2010 8:26| 4.25|     17850|United Kingdom|           18|\n",
      "|   536366|    22633|HAND WARMER UNION...|       6|12/1/2010 8:28| 1.85|     17850|United Kingdom|           18|\n",
      "|   536366|    22632|HAND WARMER RED P...|       6|12/1/2010 8:28| 1.85|     17850|United Kingdom|           18|\n",
      "|   536367|    84879|ASSORTED COLOUR B...|      32|12/1/2010 8:34| 1.69|     13047|United Kingdom|           44|\n",
      "|   536367|    22745|POPPY'S PLAYHOUSE...|       6|12/1/2010 8:34|  2.1|     13047|United Kingdom|           18|\n",
      "|   536367|    22748|POPPY'S PLAYHOUSE...|       6|12/1/2010 8:34|  2.1|     13047|United Kingdom|           18|\n",
      "|   536367|    22749|FELTCRAFT PRINCES...|       8|12/1/2010 8:34| 3.75|     13047|United Kingdom|           20|\n",
      "|   536367|    22310|IVORY KNITTED MUG...|       6|12/1/2010 8:34| 1.65|     13047|United Kingdom|           18|\n",
      "|   536367|    84969|BOX OF 6 ASSORTED...|       6|12/1/2010 8:34| 4.25|     13047|United Kingdom|           18|\n",
      "|   536367|    22623|BOX OF VINTAGE JI...|       3|12/1/2010 8:34| 4.95|     13047|United Kingdom|           15|\n",
      "|   536367|    22622|BOX OF VINTAGE AL...|       2|12/1/2010 8:34| 9.95|     13047|United Kingdom|           14|\n",
      "|   536367|    21754|HOME BUILDING BLO...|       3|12/1/2010 8:34| 5.95|     13047|United Kingdom|           15|\n",
      "|   536367|    21755|LOVE BUILDING BLO...|       3|12/1/2010 8:34| 5.95|     13047|United Kingdom|           15|\n",
      "|   536367|    21777|RECIPE BOX WITH M...|       4|12/1/2010 8:34| 7.95|     13047|United Kingdom|           16|\n",
      "+---------+---------+--------------------+--------+--------------+-----+----------+--------------+-------------+\n",
      "only showing top 20 rows\n",
      "\n"
     ]
    }
   ],
   "source": [
    "df_pyspark.na.drop(how='any',thresh=2).show()"
   ]
  },
  {
   "cell_type": "code",
   "execution_count": 22,
   "id": "15dfa98f",
   "metadata": {},
   "outputs": [
    {
     "name": "stdout",
     "output_type": "stream",
     "text": [
      "+---------+---------+--------------------+--------+--------------+-----+----------+--------------+-------------+\n",
      "|InvoiceNo|StockCode|         Description|Quantity|   InvoiceDate|Price|CustomerID|       Country|Quantity + 12|\n",
      "+---------+---------+--------------------+--------+--------------+-----+----------+--------------+-------------+\n",
      "|   536365|   85123A|WHITE HANGING HEA...|       6|12/1/2010 8:26| 2.55|     17850|United Kingdom|           18|\n",
      "|   536365|    71053| WHITE METAL LANTERN|       6|12/1/2010 8:26| 3.39|     17850|United Kingdom|           18|\n",
      "|   536365|   84406B|CREAM CUPID HEART...|       8|12/1/2010 8:26| 2.75|     17850|United Kingdom|           20|\n",
      "|   536365|   84029G|KNITTED UNION FLA...|       6|12/1/2010 8:26| 3.39|     17850|United Kingdom|           18|\n",
      "|   536365|   84029E|RED WOOLLY HOTTIE...|       6|12/1/2010 8:26| 3.39|     17850|United Kingdom|           18|\n",
      "|   536365|    22752|SET 7 BABUSHKA NE...|       2|12/1/2010 8:26| 7.65|     17850|United Kingdom|           14|\n",
      "|   536365|    21730|GLASS STAR FROSTE...|       6|12/1/2010 8:26| 4.25|     17850|United Kingdom|           18|\n",
      "|   536366|    22633|HAND WARMER UNION...|       6|12/1/2010 8:28| 1.85|     17850|United Kingdom|           18|\n",
      "|   536366|    22632|HAND WARMER RED P...|       6|12/1/2010 8:28| 1.85|     17850|United Kingdom|           18|\n",
      "|   536367|    84879|ASSORTED COLOUR B...|      32|12/1/2010 8:34| 1.69|     13047|United Kingdom|           44|\n",
      "|   536367|    22745|POPPY'S PLAYHOUSE...|       6|12/1/2010 8:34|  2.1|     13047|United Kingdom|           18|\n",
      "|   536367|    22748|POPPY'S PLAYHOUSE...|       6|12/1/2010 8:34|  2.1|     13047|United Kingdom|           18|\n",
      "|   536367|    22749|FELTCRAFT PRINCES...|       8|12/1/2010 8:34| 3.75|     13047|United Kingdom|           20|\n",
      "|   536367|    22310|IVORY KNITTED MUG...|       6|12/1/2010 8:34| 1.65|     13047|United Kingdom|           18|\n",
      "|   536367|    84969|BOX OF 6 ASSORTED...|       6|12/1/2010 8:34| 4.25|     13047|United Kingdom|           18|\n",
      "|   536367|    22623|BOX OF VINTAGE JI...|       3|12/1/2010 8:34| 4.95|     13047|United Kingdom|           15|\n",
      "|   536367|    22622|BOX OF VINTAGE AL...|       2|12/1/2010 8:34| 9.95|     13047|United Kingdom|           14|\n",
      "|   536367|    21754|HOME BUILDING BLO...|       3|12/1/2010 8:34| 5.95|     13047|United Kingdom|           15|\n",
      "|   536367|    21755|LOVE BUILDING BLO...|       3|12/1/2010 8:34| 5.95|     13047|United Kingdom|           15|\n",
      "|   536367|    21777|RECIPE BOX WITH M...|       4|12/1/2010 8:34| 7.95|     13047|United Kingdom|           16|\n",
      "+---------+---------+--------------------+--------+--------------+-----+----------+--------------+-------------+\n",
      "only showing top 20 rows\n",
      "\n"
     ]
    }
   ],
   "source": [
    "df_pyspark.na.drop(how='any',subset=['Quantity']).show()"
   ]
  },
  {
   "cell_type": "markdown",
   "id": "e3887d03",
   "metadata": {},
   "source": [
    "### Fill Missing Value"
   ]
  },
  {
   "cell_type": "code",
   "execution_count": 23,
   "id": "554b01a5",
   "metadata": {},
   "outputs": [
    {
     "name": "stdout",
     "output_type": "stream",
     "text": [
      "+---------+---------+--------------------+--------+--------------+-----+----------+--------------+-------------+\n",
      "|InvoiceNo|StockCode|         Description|Quantity|   InvoiceDate|Price|CustomerID|       Country|Quantity + 12|\n",
      "+---------+---------+--------------------+--------+--------------+-----+----------+--------------+-------------+\n",
      "|   536365|   85123A|WHITE HANGING HEA...|       6|12/1/2010 8:26| 2.55|     17850|United Kingdom|           18|\n",
      "|   536365|    71053| WHITE METAL LANTERN|       6|12/1/2010 8:26| 3.39|     17850|United Kingdom|           18|\n",
      "|   536365|   84406B|CREAM CUPID HEART...|       8|12/1/2010 8:26| 2.75|     17850|United Kingdom|           20|\n",
      "|   536365|   84029G|KNITTED UNION FLA...|       6|12/1/2010 8:26| 3.39|     17850|United Kingdom|           18|\n",
      "|   536365|   84029E|RED WOOLLY HOTTIE...|       6|12/1/2010 8:26| 3.39|     17850|United Kingdom|           18|\n",
      "|   536365|    22752|SET 7 BABUSHKA NE...|       2|12/1/2010 8:26| 7.65|     17850|United Kingdom|           14|\n",
      "|   536365|    21730|GLASS STAR FROSTE...|       6|12/1/2010 8:26| 4.25|     17850|United Kingdom|           18|\n",
      "|   536366|    22633|HAND WARMER UNION...|       6|12/1/2010 8:28| 1.85|     17850|United Kingdom|           18|\n",
      "|   536366|    22632|HAND WARMER RED P...|       6|12/1/2010 8:28| 1.85|     17850|United Kingdom|           18|\n",
      "|   536367|    84879|ASSORTED COLOUR B...|      32|12/1/2010 8:34| 1.69|     13047|United Kingdom|           44|\n",
      "|   536367|    22745|POPPY'S PLAYHOUSE...|       6|12/1/2010 8:34|  2.1|     13047|United Kingdom|           18|\n",
      "|   536367|    22748|POPPY'S PLAYHOUSE...|       6|12/1/2010 8:34|  2.1|     13047|United Kingdom|           18|\n",
      "|   536367|    22749|FELTCRAFT PRINCES...|       8|12/1/2010 8:34| 3.75|     13047|United Kingdom|           20|\n",
      "|   536367|    22310|IVORY KNITTED MUG...|       6|12/1/2010 8:34| 1.65|     13047|United Kingdom|           18|\n",
      "|   536367|    84969|BOX OF 6 ASSORTED...|       6|12/1/2010 8:34| 4.25|     13047|United Kingdom|           18|\n",
      "|   536367|    22623|BOX OF VINTAGE JI...|       3|12/1/2010 8:34| 4.95|     13047|United Kingdom|           15|\n",
      "|   536367|    22622|BOX OF VINTAGE AL...|       2|12/1/2010 8:34| 9.95|     13047|United Kingdom|           14|\n",
      "|   536367|    21754|HOME BUILDING BLO...|       3|12/1/2010 8:34| 5.95|     13047|United Kingdom|           15|\n",
      "|   536367|    21755|LOVE BUILDING BLO...|       3|12/1/2010 8:34| 5.95|     13047|United Kingdom|           15|\n",
      "|   536367|    21777|RECIPE BOX WITH M...|       4|12/1/2010 8:34| 7.95|     13047|United Kingdom|           16|\n",
      "+---------+---------+--------------------+--------+--------------+-----+----------+--------------+-------------+\n",
      "only showing top 20 rows\n",
      "\n"
     ]
    }
   ],
   "source": [
    "df_pyspark.na.fill('N/A','Description').show()"
   ]
  },
  {
   "cell_type": "markdown",
   "id": "24b1d753",
   "metadata": {},
   "source": [
    "### Filtering Operations"
   ]
  },
  {
   "cell_type": "code",
   "execution_count": 24,
   "id": "8f5fbfc7",
   "metadata": {},
   "outputs": [
    {
     "name": "stdout",
     "output_type": "stream",
     "text": [
      "+---------+---------+--------------------+--------+--------------+-----+----------+--------------+-------------+\n",
      "|InvoiceNo|StockCode|         Description|Quantity|   InvoiceDate|Price|CustomerID|       Country|Quantity + 12|\n",
      "+---------+---------+--------------------+--------+--------------+-----+----------+--------------+-------------+\n",
      "|   536365|   84406B|CREAM CUPID HEART...|       8|12/1/2010 8:26| 2.75|     17850|United Kingdom|           20|\n",
      "|   536367|    84879|ASSORTED COLOUR B...|      32|12/1/2010 8:34| 1.69|     13047|United Kingdom|           44|\n",
      "|   536367|    22749|FELTCRAFT PRINCES...|       8|12/1/2010 8:34| 3.75|     13047|United Kingdom|           20|\n",
      "|   536370|    22728|ALARM CLOCK BAKEL...|      24|12/1/2010 8:45| 3.75|     12583|        France|           36|\n",
      "|   536370|    22727|ALARM CLOCK BAKEL...|      24|12/1/2010 8:45| 3.75|     12583|        France|           36|\n",
      "|   536370|    22726|ALARM CLOCK BAKEL...|      12|12/1/2010 8:45| 3.75|     12583|        France|           24|\n",
      "|   536370|    21724|PANDA AND BUNNIES...|      12|12/1/2010 8:45| 0.85|     12583|        France|           24|\n",
      "|   536370|    21883|    STARS GIFT TAPE |      24|12/1/2010 8:45| 0.65|     12583|        France|           36|\n",
      "|   536370|    10002|INFLATABLE POLITI...|      48|12/1/2010 8:45| 0.85|     12583|        France|           60|\n",
      "|   536370|    21791|VINTAGE HEADS AND...|      24|12/1/2010 8:45| 1.25|     12583|        France|           36|\n",
      "|   536370|    21035|SET/2 RED RETROSP...|      18|12/1/2010 8:45| 2.95|     12583|        France|           30|\n",
      "|   536370|    22326|ROUND SNACK BOXES...|      24|12/1/2010 8:45| 2.95|     12583|        France|           36|\n",
      "|   536370|    22629| SPACEBOY LUNCH BOX |      24|12/1/2010 8:45| 1.95|     12583|        France|           36|\n",
      "|   536370|    22659|LUNCH BOX I LOVE ...|      24|12/1/2010 8:45| 1.95|     12583|        France|           36|\n",
      "|   536370|    22631|CIRCUS PARADE LUN...|      24|12/1/2010 8:45| 1.95|     12583|        France|           36|\n",
      "|   536370|    22661|CHARLOTTE BAG DOL...|      20|12/1/2010 8:45| 0.85|     12583|        France|           32|\n",
      "|   536370|    21731|RED TOADSTOOL LED...|      24|12/1/2010 8:45| 1.65|     12583|        France|           36|\n",
      "|   536370|    22900| SET 2 TEA TOWELS...|      24|12/1/2010 8:45| 2.95|     12583|        France|           36|\n",
      "|   536370|    21913|VINTAGE SEASIDE J...|      12|12/1/2010 8:45| 3.75|     12583|        France|           24|\n",
      "|   536370|    22540|MINI JIGSAW CIRCU...|      24|12/1/2010 8:45| 0.42|     12583|        France|           36|\n",
      "+---------+---------+--------------------+--------+--------------+-----+----------+--------------+-------------+\n",
      "only showing top 20 rows\n",
      "\n"
     ]
    }
   ],
   "source": [
    "df_pyspark.filter('Quantity>6').show()"
   ]
  },
  {
   "cell_type": "code",
   "execution_count": 27,
   "id": "61406b94",
   "metadata": {},
   "outputs": [
    {
     "name": "stdout",
     "output_type": "stream",
     "text": [
      "+---------+---------+--------------------+--------+--------------+-----+----------+--------------+-------------+\n",
      "|InvoiceNo|StockCode|         Description|Quantity|   InvoiceDate|Price|CustomerID|       Country|Quantity + 12|\n",
      "+---------+---------+--------------------+--------+--------------+-----+----------+--------------+-------------+\n",
      "|   536365|   85123A|WHITE HANGING HEA...|       6|12/1/2010 8:26| 2.55|     17850|United Kingdom|           18|\n",
      "|   536365|    71053| WHITE METAL LANTERN|       6|12/1/2010 8:26| 3.39|     17850|United Kingdom|           18|\n",
      "|   536365|   84406B|CREAM CUPID HEART...|       8|12/1/2010 8:26| 2.75|     17850|United Kingdom|           20|\n",
      "|   536365|   84029G|KNITTED UNION FLA...|       6|12/1/2010 8:26| 3.39|     17850|United Kingdom|           18|\n",
      "|   536365|   84029E|RED WOOLLY HOTTIE...|       6|12/1/2010 8:26| 3.39|     17850|United Kingdom|           18|\n",
      "|   536365|    21730|GLASS STAR FROSTE...|       6|12/1/2010 8:26| 4.25|     17850|United Kingdom|           18|\n",
      "|   536366|    22633|HAND WARMER UNION...|       6|12/1/2010 8:28| 1.85|     17850|United Kingdom|           18|\n",
      "|   536366|    22632|HAND WARMER RED P...|       6|12/1/2010 8:28| 1.85|     17850|United Kingdom|           18|\n",
      "|   536367|    22745|POPPY'S PLAYHOUSE...|       6|12/1/2010 8:34|  2.1|     13047|United Kingdom|           18|\n",
      "|   536367|    22748|POPPY'S PLAYHOUSE...|       6|12/1/2010 8:34|  2.1|     13047|United Kingdom|           18|\n",
      "|   536367|    22749|FELTCRAFT PRINCES...|       8|12/1/2010 8:34| 3.75|     13047|United Kingdom|           20|\n",
      "|   536367|    22310|IVORY KNITTED MUG...|       6|12/1/2010 8:34| 1.65|     13047|United Kingdom|           18|\n",
      "|   536367|    84969|BOX OF 6 ASSORTED...|       6|12/1/2010 8:34| 4.25|     13047|United Kingdom|           18|\n",
      "|   536367|    22623|BOX OF VINTAGE JI...|       3|12/1/2010 8:34| 4.95|     13047|United Kingdom|           15|\n",
      "|   536367|    21754|HOME BUILDING BLO...|       3|12/1/2010 8:34| 5.95|     13047|United Kingdom|           15|\n",
      "|   536367|    21755|LOVE BUILDING BLO...|       3|12/1/2010 8:34| 5.95|     13047|United Kingdom|           15|\n",
      "|   536367|    21777|RECIPE BOX WITH M...|       4|12/1/2010 8:34| 7.95|     13047|United Kingdom|           16|\n",
      "|   536367|    48187| DOORMAT NEW ENGLAND|       4|12/1/2010 8:34| 7.95|     13047|United Kingdom|           16|\n",
      "|   536368|    22960|JAM MAKING SET WI...|       6|12/1/2010 8:34| 4.25|     13047|United Kingdom|           18|\n",
      "|   536368|    22913|RED COAT RACK PAR...|       3|12/1/2010 8:34| 4.95|     13047|United Kingdom|           15|\n",
      "+---------+---------+--------------------+--------+--------------+-----+----------+--------------+-------------+\n",
      "only showing top 20 rows\n",
      "\n"
     ]
    }
   ],
   "source": [
    "df_pyspark.filter((df_pyspark['Quantity'] > 2) &\n",
    "                  (df_pyspark['Quantity'] < 24)).show()"
   ]
  },
  {
   "cell_type": "code",
   "execution_count": 28,
   "id": "f9e96638",
   "metadata": {},
   "outputs": [
    {
     "name": "stdout",
     "output_type": "stream",
     "text": [
      "+---------+---------+--------------------+--------+--------------+-----+----------+--------------+-------------+\n",
      "|InvoiceNo|StockCode|         Description|Quantity|   InvoiceDate|Price|CustomerID|       Country|Quantity + 12|\n",
      "+---------+---------+--------------------+--------+--------------+-----+----------+--------------+-------------+\n",
      "|   536365|   85123A|WHITE HANGING HEA...|       6|12/1/2010 8:26| 2.55|     17850|United Kingdom|           18|\n",
      "|   536365|    71053| WHITE METAL LANTERN|       6|12/1/2010 8:26| 3.39|     17850|United Kingdom|           18|\n",
      "|   536365|   84406B|CREAM CUPID HEART...|       8|12/1/2010 8:26| 2.75|     17850|United Kingdom|           20|\n",
      "|   536365|   84029G|KNITTED UNION FLA...|       6|12/1/2010 8:26| 3.39|     17850|United Kingdom|           18|\n",
      "|   536365|   84029E|RED WOOLLY HOTTIE...|       6|12/1/2010 8:26| 3.39|     17850|United Kingdom|           18|\n",
      "|   536365|    22752|SET 7 BABUSHKA NE...|       2|12/1/2010 8:26| 7.65|     17850|United Kingdom|           14|\n",
      "|   536365|    21730|GLASS STAR FROSTE...|       6|12/1/2010 8:26| 4.25|     17850|United Kingdom|           18|\n",
      "|   536366|    22633|HAND WARMER UNION...|       6|12/1/2010 8:28| 1.85|     17850|United Kingdom|           18|\n",
      "|   536366|    22632|HAND WARMER RED P...|       6|12/1/2010 8:28| 1.85|     17850|United Kingdom|           18|\n",
      "|   536367|    22745|POPPY'S PLAYHOUSE...|       6|12/1/2010 8:34|  2.1|     13047|United Kingdom|           18|\n",
      "|   536367|    22748|POPPY'S PLAYHOUSE...|       6|12/1/2010 8:34|  2.1|     13047|United Kingdom|           18|\n",
      "|   536367|    22749|FELTCRAFT PRINCES...|       8|12/1/2010 8:34| 3.75|     13047|United Kingdom|           20|\n",
      "|   536367|    22310|IVORY KNITTED MUG...|       6|12/1/2010 8:34| 1.65|     13047|United Kingdom|           18|\n",
      "|   536367|    84969|BOX OF 6 ASSORTED...|       6|12/1/2010 8:34| 4.25|     13047|United Kingdom|           18|\n",
      "|   536367|    22623|BOX OF VINTAGE JI...|       3|12/1/2010 8:34| 4.95|     13047|United Kingdom|           15|\n",
      "|   536367|    22622|BOX OF VINTAGE AL...|       2|12/1/2010 8:34| 9.95|     13047|United Kingdom|           14|\n",
      "|   536367|    21754|HOME BUILDING BLO...|       3|12/1/2010 8:34| 5.95|     13047|United Kingdom|           15|\n",
      "|   536367|    21755|LOVE BUILDING BLO...|       3|12/1/2010 8:34| 5.95|     13047|United Kingdom|           15|\n",
      "|   536367|    21777|RECIPE BOX WITH M...|       4|12/1/2010 8:34| 7.95|     13047|United Kingdom|           16|\n",
      "|   536367|    48187| DOORMAT NEW ENGLAND|       4|12/1/2010 8:34| 7.95|     13047|United Kingdom|           16|\n",
      "+---------+---------+--------------------+--------+--------------+-----+----------+--------------+-------------+\n",
      "only showing top 20 rows\n",
      "\n"
     ]
    }
   ],
   "source": [
    "df_pyspark.filter(~(df_pyspark['Quantity']>24)).show()"
   ]
  },
  {
   "cell_type": "markdown",
   "id": "c97ee17b",
   "metadata": {},
   "source": [
    "# Group And Aggregration"
   ]
  },
  {
   "cell_type": "code",
   "execution_count": 31,
   "id": "83c50802",
   "metadata": {},
   "outputs": [
    {
     "name": "stdout",
     "output_type": "stream",
     "text": [
      "+--------------+--------+\n",
      "|       Country|Quantity|\n",
      "+--------------+--------+\n",
      "|United Kingdom|       6|\n",
      "|United Kingdom|       6|\n",
      "|United Kingdom|       8|\n",
      "|United Kingdom|       6|\n",
      "|United Kingdom|       6|\n",
      "|United Kingdom|       2|\n",
      "|United Kingdom|       6|\n",
      "|United Kingdom|       6|\n",
      "|United Kingdom|       6|\n",
      "|United Kingdom|      32|\n",
      "|United Kingdom|       6|\n",
      "|United Kingdom|       6|\n",
      "|United Kingdom|       8|\n",
      "|United Kingdom|       6|\n",
      "|United Kingdom|       6|\n",
      "|United Kingdom|       3|\n",
      "|United Kingdom|       2|\n",
      "|United Kingdom|       3|\n",
      "|United Kingdom|       3|\n",
      "|United Kingdom|       4|\n",
      "+--------------+--------+\n",
      "only showing top 20 rows\n",
      "\n"
     ]
    }
   ],
   "source": [
    "df_filtered = df_pyspark.select(['Country','Quantity'])\n",
    "df_filtered.show()"
   ]
  },
  {
   "cell_type": "code",
   "execution_count": 33,
   "id": "e81120bd",
   "metadata": {},
   "outputs": [
    {
     "name": "stdout",
     "output_type": "stream",
     "text": [
      "+---------------+-------------+\n",
      "|        Country|sum(Quantity)|\n",
      "+---------------+-------------+\n",
      "|         Sweden|        35637|\n",
      "|      Singapore|         5234|\n",
      "|        Germany|       117448|\n",
      "|         France|       110480|\n",
      "|         Greece|         1556|\n",
      "|        Belgium|        23152|\n",
      "|        Finland|        10666|\n",
      "|          Italy|         7999|\n",
      "|           EIRE|       142637|\n",
      "|      Lithuania|          652|\n",
      "|         Norway|        19247|\n",
      "|          Spain|        26824|\n",
      "|        Denmark|         8188|\n",
      "|      Hong Kong|         4769|\n",
      "|        Iceland|         2458|\n",
      "|         Israel|         4353|\n",
      "|Channel Islands|         9479|\n",
      "|         Cyprus|         6317|\n",
      "|    Switzerland|        30325|\n",
      "|        Lebanon|          386|\n",
      "+---------------+-------------+\n",
      "only showing top 20 rows\n",
      "\n"
     ]
    },
    {
     "name": "stderr",
     "output_type": "stream",
     "text": [
      "\r",
      "[Stage 24:==================================================>       (7 + 1) / 8]\r",
      "\r",
      "                                                                                \r"
     ]
    }
   ],
   "source": [
    "df_filtered.groupBy('Country').sum().show()"
   ]
  },
  {
   "cell_type": "code",
   "execution_count": 34,
   "id": "f34058dd",
   "metadata": {},
   "outputs": [
    {
     "name": "stdout",
     "output_type": "stream",
     "text": [
      "+---------------+-----+\n",
      "|        Country|count|\n",
      "+---------------+-----+\n",
      "|         Sweden|  462|\n",
      "|      Singapore|  229|\n",
      "|        Germany| 9495|\n",
      "|         France| 8557|\n",
      "|         Greece|  146|\n",
      "|        Belgium| 2069|\n",
      "|        Finland|  695|\n",
      "|          Italy|  803|\n",
      "|           EIRE| 8196|\n",
      "|      Lithuania|   35|\n",
      "|         Norway| 1086|\n",
      "|          Spain| 2533|\n",
      "|        Denmark|  389|\n",
      "|      Hong Kong|  288|\n",
      "|        Iceland|  182|\n",
      "|         Israel|  297|\n",
      "|Channel Islands|  758|\n",
      "|         Cyprus|  622|\n",
      "|    Switzerland| 2002|\n",
      "|        Lebanon|   45|\n",
      "+---------------+-----+\n",
      "only showing top 20 rows\n",
      "\n"
     ]
    }
   ],
   "source": [
    "df_filtered.groupBy('Country').count().show()"
   ]
  },
  {
   "cell_type": "code",
   "execution_count": 36,
   "id": "4d0ab0d7",
   "metadata": {},
   "outputs": [
    {
     "name": "stdout",
     "output_type": "stream",
     "text": [
      "+-------------+\n",
      "|sum(Quantity)|\n",
      "+-------------+\n",
      "|      5176450|\n",
      "+-------------+\n",
      "\n"
     ]
    }
   ],
   "source": [
    "df_filtered.agg({'Quantity':'sum'}).show()"
   ]
  },
  {
   "cell_type": "code",
   "execution_count": null,
   "id": "f4820144",
   "metadata": {},
   "outputs": [],
   "source": []
  }
 ],
 "metadata": {
  "kernelspec": {
   "display_name": "Python 3 (ipykernel)",
   "language": "python",
   "name": "python3"
  },
  "language_info": {
   "codemirror_mode": {
    "name": "ipython",
    "version": 3
   },
   "file_extension": ".py",
   "mimetype": "text/x-python",
   "name": "python",
   "nbconvert_exporter": "python",
   "pygments_lexer": "ipython3",
   "version": "3.10.4"
  }
 },
 "nbformat": 4,
 "nbformat_minor": 5
}
