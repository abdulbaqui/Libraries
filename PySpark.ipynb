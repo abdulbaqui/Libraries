{
 "cells": [
  {
   "cell_type": "code",
   "execution_count": 1,
   "id": "9606bca3",
   "metadata": {},
   "outputs": [],
   "source": [
    "import pyspark\n",
    "from pyspark.sql import SparkSession"
   ]
  },
  {
   "cell_type": "markdown",
   "id": "b67180bf",
   "metadata": {},
   "source": [
    "### Creating App "
   ]
  },
  {
   "cell_type": "code",
   "execution_count": 2,
   "id": "0e6d8a6a",
   "metadata": {},
   "outputs": [
    {
     "name": "stdout",
     "output_type": "stream",
     "text": [
      "22/06/16 21:13:23 WARN Utils: Your hostname, AbdulBaquiKhan resolves to a loopback address: 127.0.1.1; using 192.168.0.106 instead (on interface wlp0s20f3)\n",
      "22/06/16 21:13:23 WARN Utils: Set SPARK_LOCAL_IP if you need to bind to another address\n"
     ]
    },
    {
     "name": "stderr",
     "output_type": "stream",
     "text": [
      "Setting default log level to \"WARN\".\n",
      "To adjust logging level use sc.setLogLevel(newLevel). For SparkR, use setLogLevel(newLevel).\n"
     ]
    },
    {
     "name": "stdout",
     "output_type": "stream",
     "text": [
      "22/06/16 21:13:24 WARN NativeCodeLoader: Unable to load native-hadoop library for your platform... using builtin-java classes where applicable\n"
     ]
    }
   ],
   "source": [
    "spark = SparkSession.builder.appName('Practice').getOrCreate()"
   ]
  },
  {
   "cell_type": "code",
   "execution_count": 3,
   "id": "b49e70ce",
   "metadata": {},
   "outputs": [
    {
     "data": {
      "text/html": [
       "\n",
       "            <div>\n",
       "                <p><b>SparkSession - in-memory</b></p>\n",
       "                \n",
       "        <div>\n",
       "            <p><b>SparkContext</b></p>\n",
       "\n",
       "            <p><a href=\"http://192.168.0.106:4040\">Spark UI</a></p>\n",
       "\n",
       "            <dl>\n",
       "              <dt>Version</dt>\n",
       "                <dd><code>v3.3.0</code></dd>\n",
       "              <dt>Master</dt>\n",
       "                <dd><code>local[*]</code></dd>\n",
       "              <dt>AppName</dt>\n",
       "                <dd><code>Practice</code></dd>\n",
       "            </dl>\n",
       "        </div>\n",
       "        \n",
       "            </div>\n",
       "        "
      ],
      "text/plain": [
       "<pyspark.sql.session.SparkSession at 0x7ff5c3fd45e0>"
      ]
     },
     "execution_count": 3,
     "metadata": {},
     "output_type": "execute_result"
    }
   ],
   "source": [
    "spark"
   ]
  },
  {
   "cell_type": "markdown",
   "id": "c493c3d8",
   "metadata": {},
   "source": [
    "### Reading CSV File Using Spark"
   ]
  },
  {
   "cell_type": "code",
   "execution_count": 4,
   "id": "b60ab18c",
   "metadata": {},
   "outputs": [],
   "source": [
    "df_pyspark=spark.read.csv('data.csv')"
   ]
  },
  {
   "cell_type": "code",
   "execution_count": 5,
   "id": "1d1c515f",
   "metadata": {},
   "outputs": [
    {
     "name": "stdout",
     "output_type": "stream",
     "text": [
      "+---------+---------+--------------------+--------+--------------+---------+----------+--------------+\n",
      "|      _c0|      _c1|                 _c2|     _c3|           _c4|      _c5|       _c6|           _c7|\n",
      "+---------+---------+--------------------+--------+--------------+---------+----------+--------------+\n",
      "|InvoiceNo|StockCode|         Description|Quantity|   InvoiceDate|UnitPrice|CustomerID|       Country|\n",
      "|   536365|   85123A|WHITE HANGING HEA...|       6|12/1/2010 8:26|     2.55|     17850|United Kingdom|\n",
      "|   536365|    71053| WHITE METAL LANTERN|       6|12/1/2010 8:26|     3.39|     17850|United Kingdom|\n",
      "|   536365|   84406B|CREAM CUPID HEART...|       8|12/1/2010 8:26|     2.75|     17850|United Kingdom|\n",
      "|   536365|   84029G|KNITTED UNION FLA...|       6|12/1/2010 8:26|     3.39|     17850|United Kingdom|\n",
      "|   536365|   84029E|RED WOOLLY HOTTIE...|       6|12/1/2010 8:26|     3.39|     17850|United Kingdom|\n",
      "|   536365|    22752|SET 7 BABUSHKA NE...|       2|12/1/2010 8:26|     7.65|     17850|United Kingdom|\n",
      "|   536365|    21730|GLASS STAR FROSTE...|       6|12/1/2010 8:26|     4.25|     17850|United Kingdom|\n",
      "|   536366|    22633|HAND WARMER UNION...|       6|12/1/2010 8:28|     1.85|     17850|United Kingdom|\n",
      "|   536366|    22632|HAND WARMER RED P...|       6|12/1/2010 8:28|     1.85|     17850|United Kingdom|\n",
      "|   536367|    84879|ASSORTED COLOUR B...|      32|12/1/2010 8:34|     1.69|     13047|United Kingdom|\n",
      "|   536367|    22745|POPPY'S PLAYHOUSE...|       6|12/1/2010 8:34|      2.1|     13047|United Kingdom|\n",
      "|   536367|    22748|POPPY'S PLAYHOUSE...|       6|12/1/2010 8:34|      2.1|     13047|United Kingdom|\n",
      "|   536367|    22749|FELTCRAFT PRINCES...|       8|12/1/2010 8:34|     3.75|     13047|United Kingdom|\n",
      "|   536367|    22310|IVORY KNITTED MUG...|       6|12/1/2010 8:34|     1.65|     13047|United Kingdom|\n",
      "|   536367|    84969|BOX OF 6 ASSORTED...|       6|12/1/2010 8:34|     4.25|     13047|United Kingdom|\n",
      "|   536367|    22623|BOX OF VINTAGE JI...|       3|12/1/2010 8:34|     4.95|     13047|United Kingdom|\n",
      "|   536367|    22622|BOX OF VINTAGE AL...|       2|12/1/2010 8:34|     9.95|     13047|United Kingdom|\n",
      "|   536367|    21754|HOME BUILDING BLO...|       3|12/1/2010 8:34|     5.95|     13047|United Kingdom|\n",
      "|   536367|    21755|LOVE BUILDING BLO...|       3|12/1/2010 8:34|     5.95|     13047|United Kingdom|\n",
      "+---------+---------+--------------------+--------+--------------+---------+----------+--------------+\n",
      "only showing top 20 rows\n",
      "\n"
     ]
    }
   ],
   "source": [
    "df_pyspark.show()"
   ]
  },
  {
   "cell_type": "markdown",
   "id": "3468573a",
   "metadata": {},
   "source": [
    "### Reading CSV first row as Header"
   ]
  },
  {
   "cell_type": "code",
   "execution_count": 6,
   "id": "2df95508",
   "metadata": {},
   "outputs": [
    {
     "name": "stderr",
     "output_type": "stream",
     "text": [
      "                                                                                \r"
     ]
    },
    {
     "data": {
      "text/plain": [
       "DataFrame[InvoiceNo: string, StockCode: string, Description: string, Quantity: int, InvoiceDate: string, UnitPrice: double, CustomerID: int, Country: string]"
      ]
     },
     "execution_count": 6,
     "metadata": {},
     "output_type": "execute_result"
    }
   ],
   "source": [
    "df_pyspark= spark.read.csv('data.csv',header = True,inferSchema=True)\n",
    "df_pyspark"
   ]
  },
  {
   "cell_type": "code",
   "execution_count": 7,
   "id": "3de1fb8b",
   "metadata": {},
   "outputs": [
    {
     "name": "stdout",
     "output_type": "stream",
     "text": [
      "+---------+---------+--------------------+--------+--------------+---------+----------+--------------+\n",
      "|InvoiceNo|StockCode|         Description|Quantity|   InvoiceDate|UnitPrice|CustomerID|       Country|\n",
      "+---------+---------+--------------------+--------+--------------+---------+----------+--------------+\n",
      "|   536365|   85123A|WHITE HANGING HEA...|       6|12/1/2010 8:26|     2.55|     17850|United Kingdom|\n",
      "|   536365|    71053| WHITE METAL LANTERN|       6|12/1/2010 8:26|     3.39|     17850|United Kingdom|\n",
      "|   536365|   84406B|CREAM CUPID HEART...|       8|12/1/2010 8:26|     2.75|     17850|United Kingdom|\n",
      "|   536365|   84029G|KNITTED UNION FLA...|       6|12/1/2010 8:26|     3.39|     17850|United Kingdom|\n",
      "|   536365|   84029E|RED WOOLLY HOTTIE...|       6|12/1/2010 8:26|     3.39|     17850|United Kingdom|\n",
      "|   536365|    22752|SET 7 BABUSHKA NE...|       2|12/1/2010 8:26|     7.65|     17850|United Kingdom|\n",
      "|   536365|    21730|GLASS STAR FROSTE...|       6|12/1/2010 8:26|     4.25|     17850|United Kingdom|\n",
      "|   536366|    22633|HAND WARMER UNION...|       6|12/1/2010 8:28|     1.85|     17850|United Kingdom|\n",
      "|   536366|    22632|HAND WARMER RED P...|       6|12/1/2010 8:28|     1.85|     17850|United Kingdom|\n",
      "|   536367|    84879|ASSORTED COLOUR B...|      32|12/1/2010 8:34|     1.69|     13047|United Kingdom|\n",
      "|   536367|    22745|POPPY'S PLAYHOUSE...|       6|12/1/2010 8:34|      2.1|     13047|United Kingdom|\n",
      "|   536367|    22748|POPPY'S PLAYHOUSE...|       6|12/1/2010 8:34|      2.1|     13047|United Kingdom|\n",
      "|   536367|    22749|FELTCRAFT PRINCES...|       8|12/1/2010 8:34|     3.75|     13047|United Kingdom|\n",
      "|   536367|    22310|IVORY KNITTED MUG...|       6|12/1/2010 8:34|     1.65|     13047|United Kingdom|\n",
      "|   536367|    84969|BOX OF 6 ASSORTED...|       6|12/1/2010 8:34|     4.25|     13047|United Kingdom|\n",
      "|   536367|    22623|BOX OF VINTAGE JI...|       3|12/1/2010 8:34|     4.95|     13047|United Kingdom|\n",
      "|   536367|    22622|BOX OF VINTAGE AL...|       2|12/1/2010 8:34|     9.95|     13047|United Kingdom|\n",
      "|   536367|    21754|HOME BUILDING BLO...|       3|12/1/2010 8:34|     5.95|     13047|United Kingdom|\n",
      "|   536367|    21755|LOVE BUILDING BLO...|       3|12/1/2010 8:34|     5.95|     13047|United Kingdom|\n",
      "|   536367|    21777|RECIPE BOX WITH M...|       4|12/1/2010 8:34|     7.95|     13047|United Kingdom|\n",
      "+---------+---------+--------------------+--------+--------------+---------+----------+--------------+\n",
      "only showing top 20 rows\n",
      "\n"
     ]
    }
   ],
   "source": [
    "df_pyspark.show()"
   ]
  },
  {
   "cell_type": "markdown",
   "id": "a3e94d91",
   "metadata": {},
   "source": [
    "### Checking type of df_pyspark"
   ]
  },
  {
   "cell_type": "code",
   "execution_count": 8,
   "id": "627b99fa",
   "metadata": {},
   "outputs": [
    {
     "data": {
      "text/plain": [
       "pyspark.sql.dataframe.DataFrame"
      ]
     },
     "execution_count": 8,
     "metadata": {},
     "output_type": "execute_result"
    }
   ],
   "source": [
    "type(df_pyspark)"
   ]
  },
  {
   "cell_type": "markdown",
   "id": "005fbd1d",
   "metadata": {},
   "source": [
    "### Head"
   ]
  },
  {
   "cell_type": "code",
   "execution_count": 9,
   "id": "57f444a0",
   "metadata": {},
   "outputs": [
    {
     "data": {
      "text/plain": [
       "Row(InvoiceNo='536365', StockCode='85123A', Description='WHITE HANGING HEART T-LIGHT HOLDER', Quantity=6, InvoiceDate='12/1/2010 8:26', UnitPrice=2.55, CustomerID=17850, Country='United Kingdom')"
      ]
     },
     "execution_count": 9,
     "metadata": {},
     "output_type": "execute_result"
    }
   ],
   "source": [
    "df_pyspark.head()"
   ]
  },
  {
   "cell_type": "markdown",
   "id": "c364d3aa",
   "metadata": {},
   "source": [
    "### Showing Schema"
   ]
  },
  {
   "cell_type": "code",
   "execution_count": 10,
   "id": "407e50a3",
   "metadata": {},
   "outputs": [
    {
     "name": "stdout",
     "output_type": "stream",
     "text": [
      "root\n",
      " |-- InvoiceNo: string (nullable = true)\n",
      " |-- StockCode: string (nullable = true)\n",
      " |-- Description: string (nullable = true)\n",
      " |-- Quantity: integer (nullable = true)\n",
      " |-- InvoiceDate: string (nullable = true)\n",
      " |-- UnitPrice: double (nullable = true)\n",
      " |-- CustomerID: integer (nullable = true)\n",
      " |-- Country: string (nullable = true)\n",
      "\n"
     ]
    }
   ],
   "source": [
    "df_pyspark.printSchema()"
   ]
  },
  {
   "cell_type": "markdown",
   "id": "a07955b0",
   "metadata": {},
   "source": [
    "### Getting Column Names"
   ]
  },
  {
   "cell_type": "code",
   "execution_count": 11,
   "id": "224c1958",
   "metadata": {},
   "outputs": [
    {
     "data": {
      "text/plain": [
       "['InvoiceNo',\n",
       " 'StockCode',\n",
       " 'Description',\n",
       " 'Quantity',\n",
       " 'InvoiceDate',\n",
       " 'UnitPrice',\n",
       " 'CustomerID',\n",
       " 'Country']"
      ]
     },
     "execution_count": 11,
     "metadata": {},
     "output_type": "execute_result"
    }
   ],
   "source": [
    "df_pyspark.columns"
   ]
  },
  {
   "cell_type": "markdown",
   "id": "50422aca",
   "metadata": {},
   "source": [
    "### Selecting Columns "
   ]
  },
  {
   "cell_type": "code",
   "execution_count": 12,
   "id": "8a48adfc",
   "metadata": {},
   "outputs": [
    {
     "name": "stdout",
     "output_type": "stream",
     "text": [
      "+--------------------+--------+--------------+\n",
      "|         Description|Quantity|       Country|\n",
      "+--------------------+--------+--------------+\n",
      "|WHITE HANGING HEA...|       6|United Kingdom|\n",
      "| WHITE METAL LANTERN|       6|United Kingdom|\n",
      "|CREAM CUPID HEART...|       8|United Kingdom|\n",
      "|KNITTED UNION FLA...|       6|United Kingdom|\n",
      "|RED WOOLLY HOTTIE...|       6|United Kingdom|\n",
      "|SET 7 BABUSHKA NE...|       2|United Kingdom|\n",
      "|GLASS STAR FROSTE...|       6|United Kingdom|\n",
      "|HAND WARMER UNION...|       6|United Kingdom|\n",
      "|HAND WARMER RED P...|       6|United Kingdom|\n",
      "|ASSORTED COLOUR B...|      32|United Kingdom|\n",
      "|POPPY'S PLAYHOUSE...|       6|United Kingdom|\n",
      "|POPPY'S PLAYHOUSE...|       6|United Kingdom|\n",
      "|FELTCRAFT PRINCES...|       8|United Kingdom|\n",
      "|IVORY KNITTED MUG...|       6|United Kingdom|\n",
      "|BOX OF 6 ASSORTED...|       6|United Kingdom|\n",
      "|BOX OF VINTAGE JI...|       3|United Kingdom|\n",
      "|BOX OF VINTAGE AL...|       2|United Kingdom|\n",
      "|HOME BUILDING BLO...|       3|United Kingdom|\n",
      "|LOVE BUILDING BLO...|       3|United Kingdom|\n",
      "|RECIPE BOX WITH M...|       4|United Kingdom|\n",
      "+--------------------+--------+--------------+\n",
      "only showing top 20 rows\n",
      "\n"
     ]
    }
   ],
   "source": [
    "df_pyspark.select(['Description','Quantity','Country']).show()"
   ]
  },
  {
   "cell_type": "markdown",
   "id": "ac908cbc",
   "metadata": {},
   "source": [
    "### Describe Function Usage"
   ]
  },
  {
   "cell_type": "code",
   "execution_count": 13,
   "id": "af926155",
   "metadata": {},
   "outputs": [
    {
     "name": "stderr",
     "output_type": "stream",
     "text": [
      "[Stage 7:============================================>              (6 + 2) / 8]\r"
     ]
    },
    {
     "name": "stdout",
     "output_type": "stream",
     "text": [
      "+-------+------------------+------------------+--------------------+------------------+---------------+------------------+------------------+-----------+\n",
      "|summary|         InvoiceNo|         StockCode|         Description|          Quantity|    InvoiceDate|         UnitPrice|        CustomerID|    Country|\n",
      "+-------+------------------+------------------+--------------------+------------------+---------------+------------------+------------------+-----------+\n",
      "|  count|            541909|            541909|              540455|            541909|         541909|            541909|            406829|     541909|\n",
      "|   mean|  559965.752026781|27623.240210938104|             20713.0|  9.55224954743324|           null|4.6111136260897085|15287.690570239585|       null|\n",
      "| stddev|13428.417280796779|16799.737628427658|                null|218.08115785023438|           null| 96.75985306117963|1713.6003033215982|       null|\n",
      "|    min|            536365|             10002| 4 PURPLE FLOCK D...|            -80995|1/10/2011 10:04|         -11062.06|             12346|  Australia|\n",
      "|    max|           C581569|                 m|   wrongly sold sets|             80995|  9/9/2011 9:52|           38970.0|             18287|Unspecified|\n",
      "+-------+------------------+------------------+--------------------+------------------+---------------+------------------+------------------+-----------+\n",
      "\n"
     ]
    },
    {
     "name": "stderr",
     "output_type": "stream",
     "text": [
      "\r",
      "                                                                                \r"
     ]
    }
   ],
   "source": [
    "df_pyspark.describe().show()"
   ]
  },
  {
   "cell_type": "markdown",
   "id": "c534a338",
   "metadata": {},
   "source": [
    "### Adding a Column"
   ]
  },
  {
   "cell_type": "code",
   "execution_count": 14,
   "id": "c6858673",
   "metadata": {},
   "outputs": [],
   "source": [
    "df_pyspark = df_pyspark.withColumn('Quantity + 12',df_pyspark['Quantity']+12)"
   ]
  },
  {
   "cell_type": "code",
   "execution_count": 15,
   "id": "96e7af1d",
   "metadata": {},
   "outputs": [
    {
     "name": "stdout",
     "output_type": "stream",
     "text": [
      "+---------+---------+--------------------+--------+--------------+---------+----------+--------------+-------------+\n",
      "|InvoiceNo|StockCode|         Description|Quantity|   InvoiceDate|UnitPrice|CustomerID|       Country|Quantity + 12|\n",
      "+---------+---------+--------------------+--------+--------------+---------+----------+--------------+-------------+\n",
      "|   536365|   85123A|WHITE HANGING HEA...|       6|12/1/2010 8:26|     2.55|     17850|United Kingdom|           18|\n",
      "|   536365|    71053| WHITE METAL LANTERN|       6|12/1/2010 8:26|     3.39|     17850|United Kingdom|           18|\n",
      "|   536365|   84406B|CREAM CUPID HEART...|       8|12/1/2010 8:26|     2.75|     17850|United Kingdom|           20|\n",
      "|   536365|   84029G|KNITTED UNION FLA...|       6|12/1/2010 8:26|     3.39|     17850|United Kingdom|           18|\n",
      "|   536365|   84029E|RED WOOLLY HOTTIE...|       6|12/1/2010 8:26|     3.39|     17850|United Kingdom|           18|\n",
      "|   536365|    22752|SET 7 BABUSHKA NE...|       2|12/1/2010 8:26|     7.65|     17850|United Kingdom|           14|\n",
      "|   536365|    21730|GLASS STAR FROSTE...|       6|12/1/2010 8:26|     4.25|     17850|United Kingdom|           18|\n",
      "|   536366|    22633|HAND WARMER UNION...|       6|12/1/2010 8:28|     1.85|     17850|United Kingdom|           18|\n",
      "|   536366|    22632|HAND WARMER RED P...|       6|12/1/2010 8:28|     1.85|     17850|United Kingdom|           18|\n",
      "|   536367|    84879|ASSORTED COLOUR B...|      32|12/1/2010 8:34|     1.69|     13047|United Kingdom|           44|\n",
      "|   536367|    22745|POPPY'S PLAYHOUSE...|       6|12/1/2010 8:34|      2.1|     13047|United Kingdom|           18|\n",
      "|   536367|    22748|POPPY'S PLAYHOUSE...|       6|12/1/2010 8:34|      2.1|     13047|United Kingdom|           18|\n",
      "|   536367|    22749|FELTCRAFT PRINCES...|       8|12/1/2010 8:34|     3.75|     13047|United Kingdom|           20|\n",
      "|   536367|    22310|IVORY KNITTED MUG...|       6|12/1/2010 8:34|     1.65|     13047|United Kingdom|           18|\n",
      "|   536367|    84969|BOX OF 6 ASSORTED...|       6|12/1/2010 8:34|     4.25|     13047|United Kingdom|           18|\n",
      "|   536367|    22623|BOX OF VINTAGE JI...|       3|12/1/2010 8:34|     4.95|     13047|United Kingdom|           15|\n",
      "|   536367|    22622|BOX OF VINTAGE AL...|       2|12/1/2010 8:34|     9.95|     13047|United Kingdom|           14|\n",
      "|   536367|    21754|HOME BUILDING BLO...|       3|12/1/2010 8:34|     5.95|     13047|United Kingdom|           15|\n",
      "|   536367|    21755|LOVE BUILDING BLO...|       3|12/1/2010 8:34|     5.95|     13047|United Kingdom|           15|\n",
      "|   536367|    21777|RECIPE BOX WITH M...|       4|12/1/2010 8:34|     7.95|     13047|United Kingdom|           16|\n",
      "+---------+---------+--------------------+--------+--------------+---------+----------+--------------+-------------+\n",
      "only showing top 20 rows\n",
      "\n"
     ]
    }
   ],
   "source": [
    "df_pyspark.show()"
   ]
  },
  {
   "cell_type": "markdown",
   "id": "173408a9",
   "metadata": {},
   "source": [
    "### Droping a column"
   ]
  },
  {
   "cell_type": "code",
   "execution_count": 16,
   "id": "201fc572",
   "metadata": {},
   "outputs": [
    {
     "name": "stdout",
     "output_type": "stream",
     "text": [
      "+---------+--------------------+--------+--------------+---------+----------+--------------+-------------+\n",
      "|StockCode|         Description|Quantity|   InvoiceDate|UnitPrice|CustomerID|       Country|Quantity + 12|\n",
      "+---------+--------------------+--------+--------------+---------+----------+--------------+-------------+\n",
      "|   85123A|WHITE HANGING HEA...|       6|12/1/2010 8:26|     2.55|     17850|United Kingdom|           18|\n",
      "|    71053| WHITE METAL LANTERN|       6|12/1/2010 8:26|     3.39|     17850|United Kingdom|           18|\n",
      "|   84406B|CREAM CUPID HEART...|       8|12/1/2010 8:26|     2.75|     17850|United Kingdom|           20|\n",
      "|   84029G|KNITTED UNION FLA...|       6|12/1/2010 8:26|     3.39|     17850|United Kingdom|           18|\n",
      "|   84029E|RED WOOLLY HOTTIE...|       6|12/1/2010 8:26|     3.39|     17850|United Kingdom|           18|\n",
      "|    22752|SET 7 BABUSHKA NE...|       2|12/1/2010 8:26|     7.65|     17850|United Kingdom|           14|\n",
      "|    21730|GLASS STAR FROSTE...|       6|12/1/2010 8:26|     4.25|     17850|United Kingdom|           18|\n",
      "|    22633|HAND WARMER UNION...|       6|12/1/2010 8:28|     1.85|     17850|United Kingdom|           18|\n",
      "|    22632|HAND WARMER RED P...|       6|12/1/2010 8:28|     1.85|     17850|United Kingdom|           18|\n",
      "|    84879|ASSORTED COLOUR B...|      32|12/1/2010 8:34|     1.69|     13047|United Kingdom|           44|\n",
      "|    22745|POPPY'S PLAYHOUSE...|       6|12/1/2010 8:34|      2.1|     13047|United Kingdom|           18|\n",
      "|    22748|POPPY'S PLAYHOUSE...|       6|12/1/2010 8:34|      2.1|     13047|United Kingdom|           18|\n",
      "|    22749|FELTCRAFT PRINCES...|       8|12/1/2010 8:34|     3.75|     13047|United Kingdom|           20|\n",
      "|    22310|IVORY KNITTED MUG...|       6|12/1/2010 8:34|     1.65|     13047|United Kingdom|           18|\n",
      "|    84969|BOX OF 6 ASSORTED...|       6|12/1/2010 8:34|     4.25|     13047|United Kingdom|           18|\n",
      "|    22623|BOX OF VINTAGE JI...|       3|12/1/2010 8:34|     4.95|     13047|United Kingdom|           15|\n",
      "|    22622|BOX OF VINTAGE AL...|       2|12/1/2010 8:34|     9.95|     13047|United Kingdom|           14|\n",
      "|    21754|HOME BUILDING BLO...|       3|12/1/2010 8:34|     5.95|     13047|United Kingdom|           15|\n",
      "|    21755|LOVE BUILDING BLO...|       3|12/1/2010 8:34|     5.95|     13047|United Kingdom|           15|\n",
      "|    21777|RECIPE BOX WITH M...|       4|12/1/2010 8:34|     7.95|     13047|United Kingdom|           16|\n",
      "+---------+--------------------+--------+--------------+---------+----------+--------------+-------------+\n",
      "only showing top 20 rows\n",
      "\n"
     ]
    }
   ],
   "source": [
    "df_pyspark.drop('InvoiceNo').show()"
   ]
  },
  {
   "cell_type": "markdown",
   "id": "50de3ac4",
   "metadata": {},
   "source": [
    "### Renaming Column Name"
   ]
  },
  {
   "cell_type": "code",
   "execution_count": 17,
   "id": "4d002447",
   "metadata": {},
   "outputs": [],
   "source": [
    "df_pyspark= df_pyspark.withColumnRenamed('UnitPrice','Price')"
   ]
  },
  {
   "cell_type": "code",
   "execution_count": 18,
   "id": "ed066580",
   "metadata": {},
   "outputs": [
    {
     "name": "stdout",
     "output_type": "stream",
     "text": [
      "+---------+---------+--------------------+--------+--------------+-----+----------+--------------+-------------+\n",
      "|InvoiceNo|StockCode|         Description|Quantity|   InvoiceDate|Price|CustomerID|       Country|Quantity + 12|\n",
      "+---------+---------+--------------------+--------+--------------+-----+----------+--------------+-------------+\n",
      "|   536365|   85123A|WHITE HANGING HEA...|       6|12/1/2010 8:26| 2.55|     17850|United Kingdom|           18|\n",
      "|   536365|    71053| WHITE METAL LANTERN|       6|12/1/2010 8:26| 3.39|     17850|United Kingdom|           18|\n",
      "|   536365|   84406B|CREAM CUPID HEART...|       8|12/1/2010 8:26| 2.75|     17850|United Kingdom|           20|\n",
      "|   536365|   84029G|KNITTED UNION FLA...|       6|12/1/2010 8:26| 3.39|     17850|United Kingdom|           18|\n",
      "|   536365|   84029E|RED WOOLLY HOTTIE...|       6|12/1/2010 8:26| 3.39|     17850|United Kingdom|           18|\n",
      "|   536365|    22752|SET 7 BABUSHKA NE...|       2|12/1/2010 8:26| 7.65|     17850|United Kingdom|           14|\n",
      "|   536365|    21730|GLASS STAR FROSTE...|       6|12/1/2010 8:26| 4.25|     17850|United Kingdom|           18|\n",
      "|   536366|    22633|HAND WARMER UNION...|       6|12/1/2010 8:28| 1.85|     17850|United Kingdom|           18|\n",
      "|   536366|    22632|HAND WARMER RED P...|       6|12/1/2010 8:28| 1.85|     17850|United Kingdom|           18|\n",
      "|   536367|    84879|ASSORTED COLOUR B...|      32|12/1/2010 8:34| 1.69|     13047|United Kingdom|           44|\n",
      "|   536367|    22745|POPPY'S PLAYHOUSE...|       6|12/1/2010 8:34|  2.1|     13047|United Kingdom|           18|\n",
      "|   536367|    22748|POPPY'S PLAYHOUSE...|       6|12/1/2010 8:34|  2.1|     13047|United Kingdom|           18|\n",
      "|   536367|    22749|FELTCRAFT PRINCES...|       8|12/1/2010 8:34| 3.75|     13047|United Kingdom|           20|\n",
      "|   536367|    22310|IVORY KNITTED MUG...|       6|12/1/2010 8:34| 1.65|     13047|United Kingdom|           18|\n",
      "|   536367|    84969|BOX OF 6 ASSORTED...|       6|12/1/2010 8:34| 4.25|     13047|United Kingdom|           18|\n",
      "|   536367|    22623|BOX OF VINTAGE JI...|       3|12/1/2010 8:34| 4.95|     13047|United Kingdom|           15|\n",
      "|   536367|    22622|BOX OF VINTAGE AL...|       2|12/1/2010 8:34| 9.95|     13047|United Kingdom|           14|\n",
      "|   536367|    21754|HOME BUILDING BLO...|       3|12/1/2010 8:34| 5.95|     13047|United Kingdom|           15|\n",
      "|   536367|    21755|LOVE BUILDING BLO...|       3|12/1/2010 8:34| 5.95|     13047|United Kingdom|           15|\n",
      "|   536367|    21777|RECIPE BOX WITH M...|       4|12/1/2010 8:34| 7.95|     13047|United Kingdom|           16|\n",
      "+---------+---------+--------------------+--------+--------------+-----+----------+--------------+-------------+\n",
      "only showing top 20 rows\n",
      "\n"
     ]
    }
   ],
   "source": [
    "df_pyspark.show()"
   ]
  },
  {
   "cell_type": "markdown",
   "id": "41d30431",
   "metadata": {},
   "source": [
    "### Removing Null Values"
   ]
  },
  {
   "cell_type": "code",
   "execution_count": 19,
   "id": "4eff7ed4",
   "metadata": {},
   "outputs": [
    {
     "name": "stdout",
     "output_type": "stream",
     "text": [
      "+---------+---------+--------------------+--------+--------------+-----+----------+--------------+-------------+\n",
      "|InvoiceNo|StockCode|         Description|Quantity|   InvoiceDate|Price|CustomerID|       Country|Quantity + 12|\n",
      "+---------+---------+--------------------+--------+--------------+-----+----------+--------------+-------------+\n",
      "|   536365|   85123A|WHITE HANGING HEA...|       6|12/1/2010 8:26| 2.55|     17850|United Kingdom|           18|\n",
      "|   536365|    71053| WHITE METAL LANTERN|       6|12/1/2010 8:26| 3.39|     17850|United Kingdom|           18|\n",
      "|   536365|   84406B|CREAM CUPID HEART...|       8|12/1/2010 8:26| 2.75|     17850|United Kingdom|           20|\n",
      "|   536365|   84029G|KNITTED UNION FLA...|       6|12/1/2010 8:26| 3.39|     17850|United Kingdom|           18|\n",
      "|   536365|   84029E|RED WOOLLY HOTTIE...|       6|12/1/2010 8:26| 3.39|     17850|United Kingdom|           18|\n",
      "|   536365|    22752|SET 7 BABUSHKA NE...|       2|12/1/2010 8:26| 7.65|     17850|United Kingdom|           14|\n",
      "|   536365|    21730|GLASS STAR FROSTE...|       6|12/1/2010 8:26| 4.25|     17850|United Kingdom|           18|\n",
      "|   536366|    22633|HAND WARMER UNION...|       6|12/1/2010 8:28| 1.85|     17850|United Kingdom|           18|\n",
      "|   536366|    22632|HAND WARMER RED P...|       6|12/1/2010 8:28| 1.85|     17850|United Kingdom|           18|\n",
      "|   536367|    84879|ASSORTED COLOUR B...|      32|12/1/2010 8:34| 1.69|     13047|United Kingdom|           44|\n",
      "|   536367|    22745|POPPY'S PLAYHOUSE...|       6|12/1/2010 8:34|  2.1|     13047|United Kingdom|           18|\n",
      "|   536367|    22748|POPPY'S PLAYHOUSE...|       6|12/1/2010 8:34|  2.1|     13047|United Kingdom|           18|\n",
      "|   536367|    22749|FELTCRAFT PRINCES...|       8|12/1/2010 8:34| 3.75|     13047|United Kingdom|           20|\n",
      "|   536367|    22310|IVORY KNITTED MUG...|       6|12/1/2010 8:34| 1.65|     13047|United Kingdom|           18|\n",
      "|   536367|    84969|BOX OF 6 ASSORTED...|       6|12/1/2010 8:34| 4.25|     13047|United Kingdom|           18|\n",
      "|   536367|    22623|BOX OF VINTAGE JI...|       3|12/1/2010 8:34| 4.95|     13047|United Kingdom|           15|\n",
      "|   536367|    22622|BOX OF VINTAGE AL...|       2|12/1/2010 8:34| 9.95|     13047|United Kingdom|           14|\n",
      "|   536367|    21754|HOME BUILDING BLO...|       3|12/1/2010 8:34| 5.95|     13047|United Kingdom|           15|\n",
      "|   536367|    21755|LOVE BUILDING BLO...|       3|12/1/2010 8:34| 5.95|     13047|United Kingdom|           15|\n",
      "|   536367|    21777|RECIPE BOX WITH M...|       4|12/1/2010 8:34| 7.95|     13047|United Kingdom|           16|\n",
      "+---------+---------+--------------------+--------+--------------+-----+----------+--------------+-------------+\n",
      "only showing top 20 rows\n",
      "\n"
     ]
    }
   ],
   "source": [
    "df_pyspark.na.drop().show()"
   ]
  },
  {
   "cell_type": "code",
   "execution_count": 20,
   "id": "5befeb22",
   "metadata": {},
   "outputs": [
    {
     "name": "stdout",
     "output_type": "stream",
     "text": [
      "+---------+---------+--------------------+--------+--------------+-----+----------+--------------+-------------+\n",
      "|InvoiceNo|StockCode|         Description|Quantity|   InvoiceDate|Price|CustomerID|       Country|Quantity + 12|\n",
      "+---------+---------+--------------------+--------+--------------+-----+----------+--------------+-------------+\n",
      "|   536365|   85123A|WHITE HANGING HEA...|       6|12/1/2010 8:26| 2.55|     17850|United Kingdom|           18|\n",
      "|   536365|    71053| WHITE METAL LANTERN|       6|12/1/2010 8:26| 3.39|     17850|United Kingdom|           18|\n",
      "|   536365|   84406B|CREAM CUPID HEART...|       8|12/1/2010 8:26| 2.75|     17850|United Kingdom|           20|\n",
      "|   536365|   84029G|KNITTED UNION FLA...|       6|12/1/2010 8:26| 3.39|     17850|United Kingdom|           18|\n",
      "|   536365|   84029E|RED WOOLLY HOTTIE...|       6|12/1/2010 8:26| 3.39|     17850|United Kingdom|           18|\n",
      "|   536365|    22752|SET 7 BABUSHKA NE...|       2|12/1/2010 8:26| 7.65|     17850|United Kingdom|           14|\n",
      "|   536365|    21730|GLASS STAR FROSTE...|       6|12/1/2010 8:26| 4.25|     17850|United Kingdom|           18|\n",
      "|   536366|    22633|HAND WARMER UNION...|       6|12/1/2010 8:28| 1.85|     17850|United Kingdom|           18|\n",
      "|   536366|    22632|HAND WARMER RED P...|       6|12/1/2010 8:28| 1.85|     17850|United Kingdom|           18|\n",
      "|   536367|    84879|ASSORTED COLOUR B...|      32|12/1/2010 8:34| 1.69|     13047|United Kingdom|           44|\n",
      "|   536367|    22745|POPPY'S PLAYHOUSE...|       6|12/1/2010 8:34|  2.1|     13047|United Kingdom|           18|\n",
      "|   536367|    22748|POPPY'S PLAYHOUSE...|       6|12/1/2010 8:34|  2.1|     13047|United Kingdom|           18|\n",
      "|   536367|    22749|FELTCRAFT PRINCES...|       8|12/1/2010 8:34| 3.75|     13047|United Kingdom|           20|\n",
      "|   536367|    22310|IVORY KNITTED MUG...|       6|12/1/2010 8:34| 1.65|     13047|United Kingdom|           18|\n",
      "|   536367|    84969|BOX OF 6 ASSORTED...|       6|12/1/2010 8:34| 4.25|     13047|United Kingdom|           18|\n",
      "|   536367|    22623|BOX OF VINTAGE JI...|       3|12/1/2010 8:34| 4.95|     13047|United Kingdom|           15|\n",
      "|   536367|    22622|BOX OF VINTAGE AL...|       2|12/1/2010 8:34| 9.95|     13047|United Kingdom|           14|\n",
      "|   536367|    21754|HOME BUILDING BLO...|       3|12/1/2010 8:34| 5.95|     13047|United Kingdom|           15|\n",
      "|   536367|    21755|LOVE BUILDING BLO...|       3|12/1/2010 8:34| 5.95|     13047|United Kingdom|           15|\n",
      "|   536367|    21777|RECIPE BOX WITH M...|       4|12/1/2010 8:34| 7.95|     13047|United Kingdom|           16|\n",
      "+---------+---------+--------------------+--------+--------------+-----+----------+--------------+-------------+\n",
      "only showing top 20 rows\n",
      "\n"
     ]
    }
   ],
   "source": [
    "df_pyspark.na.drop(how='any').show()"
   ]
  },
  {
   "cell_type": "code",
   "execution_count": 21,
   "id": "dbb3a898",
   "metadata": {},
   "outputs": [
    {
     "name": "stdout",
     "output_type": "stream",
     "text": [
      "+---------+---------+--------------------+--------+--------------+-----+----------+--------------+-------------+\n",
      "|InvoiceNo|StockCode|         Description|Quantity|   InvoiceDate|Price|CustomerID|       Country|Quantity + 12|\n",
      "+---------+---------+--------------------+--------+--------------+-----+----------+--------------+-------------+\n",
      "|   536365|   85123A|WHITE HANGING HEA...|       6|12/1/2010 8:26| 2.55|     17850|United Kingdom|           18|\n",
      "|   536365|    71053| WHITE METAL LANTERN|       6|12/1/2010 8:26| 3.39|     17850|United Kingdom|           18|\n",
      "|   536365|   84406B|CREAM CUPID HEART...|       8|12/1/2010 8:26| 2.75|     17850|United Kingdom|           20|\n",
      "|   536365|   84029G|KNITTED UNION FLA...|       6|12/1/2010 8:26| 3.39|     17850|United Kingdom|           18|\n",
      "|   536365|   84029E|RED WOOLLY HOTTIE...|       6|12/1/2010 8:26| 3.39|     17850|United Kingdom|           18|\n",
      "|   536365|    22752|SET 7 BABUSHKA NE...|       2|12/1/2010 8:26| 7.65|     17850|United Kingdom|           14|\n",
      "|   536365|    21730|GLASS STAR FROSTE...|       6|12/1/2010 8:26| 4.25|     17850|United Kingdom|           18|\n",
      "|   536366|    22633|HAND WARMER UNION...|       6|12/1/2010 8:28| 1.85|     17850|United Kingdom|           18|\n",
      "|   536366|    22632|HAND WARMER RED P...|       6|12/1/2010 8:28| 1.85|     17850|United Kingdom|           18|\n",
      "|   536367|    84879|ASSORTED COLOUR B...|      32|12/1/2010 8:34| 1.69|     13047|United Kingdom|           44|\n",
      "|   536367|    22745|POPPY'S PLAYHOUSE...|       6|12/1/2010 8:34|  2.1|     13047|United Kingdom|           18|\n",
      "|   536367|    22748|POPPY'S PLAYHOUSE...|       6|12/1/2010 8:34|  2.1|     13047|United Kingdom|           18|\n",
      "|   536367|    22749|FELTCRAFT PRINCES...|       8|12/1/2010 8:34| 3.75|     13047|United Kingdom|           20|\n",
      "|   536367|    22310|IVORY KNITTED MUG...|       6|12/1/2010 8:34| 1.65|     13047|United Kingdom|           18|\n",
      "|   536367|    84969|BOX OF 6 ASSORTED...|       6|12/1/2010 8:34| 4.25|     13047|United Kingdom|           18|\n",
      "|   536367|    22623|BOX OF VINTAGE JI...|       3|12/1/2010 8:34| 4.95|     13047|United Kingdom|           15|\n",
      "|   536367|    22622|BOX OF VINTAGE AL...|       2|12/1/2010 8:34| 9.95|     13047|United Kingdom|           14|\n",
      "|   536367|    21754|HOME BUILDING BLO...|       3|12/1/2010 8:34| 5.95|     13047|United Kingdom|           15|\n",
      "|   536367|    21755|LOVE BUILDING BLO...|       3|12/1/2010 8:34| 5.95|     13047|United Kingdom|           15|\n",
      "|   536367|    21777|RECIPE BOX WITH M...|       4|12/1/2010 8:34| 7.95|     13047|United Kingdom|           16|\n",
      "+---------+---------+--------------------+--------+--------------+-----+----------+--------------+-------------+\n",
      "only showing top 20 rows\n",
      "\n"
     ]
    }
   ],
   "source": [
    "df_pyspark.na.drop(how='any',thresh=2).show()"
   ]
  },
  {
   "cell_type": "code",
   "execution_count": 22,
   "id": "6df7ef98",
   "metadata": {},
   "outputs": [
    {
     "name": "stdout",
     "output_type": "stream",
     "text": [
      "+---------+---------+--------------------+--------+--------------+-----+----------+--------------+-------------+\n",
      "|InvoiceNo|StockCode|         Description|Quantity|   InvoiceDate|Price|CustomerID|       Country|Quantity + 12|\n",
      "+---------+---------+--------------------+--------+--------------+-----+----------+--------------+-------------+\n",
      "|   536365|   85123A|WHITE HANGING HEA...|       6|12/1/2010 8:26| 2.55|     17850|United Kingdom|           18|\n",
      "|   536365|    71053| WHITE METAL LANTERN|       6|12/1/2010 8:26| 3.39|     17850|United Kingdom|           18|\n",
      "|   536365|   84406B|CREAM CUPID HEART...|       8|12/1/2010 8:26| 2.75|     17850|United Kingdom|           20|\n",
      "|   536365|   84029G|KNITTED UNION FLA...|       6|12/1/2010 8:26| 3.39|     17850|United Kingdom|           18|\n",
      "|   536365|   84029E|RED WOOLLY HOTTIE...|       6|12/1/2010 8:26| 3.39|     17850|United Kingdom|           18|\n",
      "|   536365|    22752|SET 7 BABUSHKA NE...|       2|12/1/2010 8:26| 7.65|     17850|United Kingdom|           14|\n",
      "|   536365|    21730|GLASS STAR FROSTE...|       6|12/1/2010 8:26| 4.25|     17850|United Kingdom|           18|\n",
      "|   536366|    22633|HAND WARMER UNION...|       6|12/1/2010 8:28| 1.85|     17850|United Kingdom|           18|\n",
      "|   536366|    22632|HAND WARMER RED P...|       6|12/1/2010 8:28| 1.85|     17850|United Kingdom|           18|\n",
      "|   536367|    84879|ASSORTED COLOUR B...|      32|12/1/2010 8:34| 1.69|     13047|United Kingdom|           44|\n",
      "|   536367|    22745|POPPY'S PLAYHOUSE...|       6|12/1/2010 8:34|  2.1|     13047|United Kingdom|           18|\n",
      "|   536367|    22748|POPPY'S PLAYHOUSE...|       6|12/1/2010 8:34|  2.1|     13047|United Kingdom|           18|\n",
      "|   536367|    22749|FELTCRAFT PRINCES...|       8|12/1/2010 8:34| 3.75|     13047|United Kingdom|           20|\n",
      "|   536367|    22310|IVORY KNITTED MUG...|       6|12/1/2010 8:34| 1.65|     13047|United Kingdom|           18|\n",
      "|   536367|    84969|BOX OF 6 ASSORTED...|       6|12/1/2010 8:34| 4.25|     13047|United Kingdom|           18|\n",
      "|   536367|    22623|BOX OF VINTAGE JI...|       3|12/1/2010 8:34| 4.95|     13047|United Kingdom|           15|\n",
      "|   536367|    22622|BOX OF VINTAGE AL...|       2|12/1/2010 8:34| 9.95|     13047|United Kingdom|           14|\n",
      "|   536367|    21754|HOME BUILDING BLO...|       3|12/1/2010 8:34| 5.95|     13047|United Kingdom|           15|\n",
      "|   536367|    21755|LOVE BUILDING BLO...|       3|12/1/2010 8:34| 5.95|     13047|United Kingdom|           15|\n",
      "|   536367|    21777|RECIPE BOX WITH M...|       4|12/1/2010 8:34| 7.95|     13047|United Kingdom|           16|\n",
      "+---------+---------+--------------------+--------+--------------+-----+----------+--------------+-------------+\n",
      "only showing top 20 rows\n",
      "\n"
     ]
    }
   ],
   "source": [
    "df_pyspark.na.drop(how='any',subset=['Quantity']).show()"
   ]
  },
  {
   "cell_type": "markdown",
   "id": "144f3372",
   "metadata": {},
   "source": [
    "### Fill Missing Value"
   ]
  },
  {
   "cell_type": "code",
   "execution_count": 23,
   "id": "f86094c9",
   "metadata": {},
   "outputs": [
    {
     "name": "stdout",
     "output_type": "stream",
     "text": [
      "+---------+---------+--------------------+--------+--------------+-----+----------+--------------+-------------+\n",
      "|InvoiceNo|StockCode|         Description|Quantity|   InvoiceDate|Price|CustomerID|       Country|Quantity + 12|\n",
      "+---------+---------+--------------------+--------+--------------+-----+----------+--------------+-------------+\n",
      "|   536365|   85123A|WHITE HANGING HEA...|       6|12/1/2010 8:26| 2.55|     17850|United Kingdom|           18|\n",
      "|   536365|    71053| WHITE METAL LANTERN|       6|12/1/2010 8:26| 3.39|     17850|United Kingdom|           18|\n",
      "|   536365|   84406B|CREAM CUPID HEART...|       8|12/1/2010 8:26| 2.75|     17850|United Kingdom|           20|\n",
      "|   536365|   84029G|KNITTED UNION FLA...|       6|12/1/2010 8:26| 3.39|     17850|United Kingdom|           18|\n",
      "|   536365|   84029E|RED WOOLLY HOTTIE...|       6|12/1/2010 8:26| 3.39|     17850|United Kingdom|           18|\n",
      "|   536365|    22752|SET 7 BABUSHKA NE...|       2|12/1/2010 8:26| 7.65|     17850|United Kingdom|           14|\n",
      "|   536365|    21730|GLASS STAR FROSTE...|       6|12/1/2010 8:26| 4.25|     17850|United Kingdom|           18|\n",
      "|   536366|    22633|HAND WARMER UNION...|       6|12/1/2010 8:28| 1.85|     17850|United Kingdom|           18|\n",
      "|   536366|    22632|HAND WARMER RED P...|       6|12/1/2010 8:28| 1.85|     17850|United Kingdom|           18|\n",
      "|   536367|    84879|ASSORTED COLOUR B...|      32|12/1/2010 8:34| 1.69|     13047|United Kingdom|           44|\n",
      "|   536367|    22745|POPPY'S PLAYHOUSE...|       6|12/1/2010 8:34|  2.1|     13047|United Kingdom|           18|\n",
      "|   536367|    22748|POPPY'S PLAYHOUSE...|       6|12/1/2010 8:34|  2.1|     13047|United Kingdom|           18|\n",
      "|   536367|    22749|FELTCRAFT PRINCES...|       8|12/1/2010 8:34| 3.75|     13047|United Kingdom|           20|\n",
      "|   536367|    22310|IVORY KNITTED MUG...|       6|12/1/2010 8:34| 1.65|     13047|United Kingdom|           18|\n",
      "|   536367|    84969|BOX OF 6 ASSORTED...|       6|12/1/2010 8:34| 4.25|     13047|United Kingdom|           18|\n",
      "|   536367|    22623|BOX OF VINTAGE JI...|       3|12/1/2010 8:34| 4.95|     13047|United Kingdom|           15|\n",
      "|   536367|    22622|BOX OF VINTAGE AL...|       2|12/1/2010 8:34| 9.95|     13047|United Kingdom|           14|\n",
      "|   536367|    21754|HOME BUILDING BLO...|       3|12/1/2010 8:34| 5.95|     13047|United Kingdom|           15|\n",
      "|   536367|    21755|LOVE BUILDING BLO...|       3|12/1/2010 8:34| 5.95|     13047|United Kingdom|           15|\n",
      "|   536367|    21777|RECIPE BOX WITH M...|       4|12/1/2010 8:34| 7.95|     13047|United Kingdom|           16|\n",
      "+---------+---------+--------------------+--------+--------------+-----+----------+--------------+-------------+\n",
      "only showing top 20 rows\n",
      "\n"
     ]
    }
   ],
   "source": [
    "df_pyspark.na.fill('N/A','Description').show()"
   ]
  },
  {
   "cell_type": "code",
   "execution_count": null,
   "id": "3439d6b7",
   "metadata": {},
   "outputs": [],
   "source": []
  }
 ],
 "metadata": {
  "kernelspec": {
   "display_name": "Python 3 (ipykernel)",
   "language": "python",
   "name": "python3"
  },
  "language_info": {
   "codemirror_mode": {
    "name": "ipython",
    "version": 3
   },
   "file_extension": ".py",
   "mimetype": "text/x-python",
   "name": "python",
   "nbconvert_exporter": "python",
   "pygments_lexer": "ipython3",
   "version": "3.10.4"
  }
 },
 "nbformat": 4,
 "nbformat_minor": 5
}
