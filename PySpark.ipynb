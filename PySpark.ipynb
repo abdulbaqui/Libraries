{
 "cells": [
  {
   "cell_type": "code",
   "execution_count": 1,
   "id": "8827ade6",
   "metadata": {},
   "outputs": [],
   "source": [
    "import pyspark\n",
    "from pyspark.sql import SparkSession"
   ]
  },
  {
   "cell_type": "markdown",
   "id": "b95f9802",
   "metadata": {},
   "source": [
    "### Creating App "
   ]
  },
  {
   "cell_type": "code",
   "execution_count": 2,
   "id": "325e4029",
   "metadata": {},
   "outputs": [
    {
     "name": "stdout",
     "output_type": "stream",
     "text": [
      "22/06/16 21:13:23 WARN Utils: Your hostname, AbdulBaquiKhan resolves to a loopback address: 127.0.1.1; using 192.168.0.106 instead (on interface wlp0s20f3)\n",
      "22/06/16 21:13:23 WARN Utils: Set SPARK_LOCAL_IP if you need to bind to another address\n"
     ]
    },
    {
     "name": "stderr",
     "output_type": "stream",
     "text": [
      "Setting default log level to \"WARN\".\n",
      "To adjust logging level use sc.setLogLevel(newLevel). For SparkR, use setLogLevel(newLevel).\n"
     ]
    },
    {
     "name": "stdout",
     "output_type": "stream",
     "text": [
      "22/06/16 21:13:24 WARN NativeCodeLoader: Unable to load native-hadoop library for your platform... using builtin-java classes where applicable\n"
     ]
    }
   ],
   "source": [
    "spark = SparkSession.builder.appName('Practice').getOrCreate()"
   ]
  },
  {
   "cell_type": "code",
   "execution_count": 3,
   "id": "29beeb67",
   "metadata": {},
   "outputs": [
    {
     "data": {
      "text/html": [
       "\n",
       "            <div>\n",
       "                <p><b>SparkSession - in-memory</b></p>\n",
       "                \n",
       "        <div>\n",
       "            <p><b>SparkContext</b></p>\n",
       "\n",
       "            <p><a href=\"http://192.168.0.106:4040\">Spark UI</a></p>\n",
       "\n",
       "            <dl>\n",
       "              <dt>Version</dt>\n",
       "                <dd><code>v3.3.0</code></dd>\n",
       "              <dt>Master</dt>\n",
       "                <dd><code>local[*]</code></dd>\n",
       "              <dt>AppName</dt>\n",
       "                <dd><code>Practice</code></dd>\n",
       "            </dl>\n",
       "        </div>\n",
       "        \n",
       "            </div>\n",
       "        "
      ],
      "text/plain": [
       "<pyspark.sql.session.SparkSession at 0x7ff5c3fd45e0>"
      ]
     },
     "execution_count": 3,
     "metadata": {},
     "output_type": "execute_result"
    }
   ],
   "source": [
    "spark"
   ]
  },
  {
   "cell_type": "markdown",
   "id": "cfa1c8e0",
   "metadata": {},
   "source": [
    "### Reading CSV File Using Spark"
   ]
  },
  {
   "cell_type": "code",
   "execution_count": 4,
   "id": "08935e3d",
   "metadata": {},
   "outputs": [],
   "source": [
    "df_pyspark=spark.read.csv('data.csv')"
   ]
  },
  {
   "cell_type": "code",
   "execution_count": 5,
   "id": "54b2471c",
   "metadata": {},
   "outputs": [
    {
     "name": "stdout",
     "output_type": "stream",
     "text": [
      "+---------+---------+--------------------+--------+--------------+---------+----------+--------------+\n",
      "|      _c0|      _c1|                 _c2|     _c3|           _c4|      _c5|       _c6|           _c7|\n",
      "+---------+---------+--------------------+--------+--------------+---------+----------+--------------+\n",
      "|InvoiceNo|StockCode|         Description|Quantity|   InvoiceDate|UnitPrice|CustomerID|       Country|\n",
      "|   536365|   85123A|WHITE HANGING HEA...|       6|12/1/2010 8:26|     2.55|     17850|United Kingdom|\n",
      "|   536365|    71053| WHITE METAL LANTERN|       6|12/1/2010 8:26|     3.39|     17850|United Kingdom|\n",
      "|   536365|   84406B|CREAM CUPID HEART...|       8|12/1/2010 8:26|     2.75|     17850|United Kingdom|\n",
      "|   536365|   84029G|KNITTED UNION FLA...|       6|12/1/2010 8:26|     3.39|     17850|United Kingdom|\n",
      "|   536365|   84029E|RED WOOLLY HOTTIE...|       6|12/1/2010 8:26|     3.39|     17850|United Kingdom|\n",
      "|   536365|    22752|SET 7 BABUSHKA NE...|       2|12/1/2010 8:26|     7.65|     17850|United Kingdom|\n",
      "|   536365|    21730|GLASS STAR FROSTE...|       6|12/1/2010 8:26|     4.25|     17850|United Kingdom|\n",
      "|   536366|    22633|HAND WARMER UNION...|       6|12/1/2010 8:28|     1.85|     17850|United Kingdom|\n",
      "|   536366|    22632|HAND WARMER RED P...|       6|12/1/2010 8:28|     1.85|     17850|United Kingdom|\n",
      "|   536367|    84879|ASSORTED COLOUR B...|      32|12/1/2010 8:34|     1.69|     13047|United Kingdom|\n",
      "|   536367|    22745|POPPY'S PLAYHOUSE...|       6|12/1/2010 8:34|      2.1|     13047|United Kingdom|\n",
      "|   536367|    22748|POPPY'S PLAYHOUSE...|       6|12/1/2010 8:34|      2.1|     13047|United Kingdom|\n",
      "|   536367|    22749|FELTCRAFT PRINCES...|       8|12/1/2010 8:34|     3.75|     13047|United Kingdom|\n",
      "|   536367|    22310|IVORY KNITTED MUG...|       6|12/1/2010 8:34|     1.65|     13047|United Kingdom|\n",
      "|   536367|    84969|BOX OF 6 ASSORTED...|       6|12/1/2010 8:34|     4.25|     13047|United Kingdom|\n",
      "|   536367|    22623|BOX OF VINTAGE JI...|       3|12/1/2010 8:34|     4.95|     13047|United Kingdom|\n",
      "|   536367|    22622|BOX OF VINTAGE AL...|       2|12/1/2010 8:34|     9.95|     13047|United Kingdom|\n",
      "|   536367|    21754|HOME BUILDING BLO...|       3|12/1/2010 8:34|     5.95|     13047|United Kingdom|\n",
      "|   536367|    21755|LOVE BUILDING BLO...|       3|12/1/2010 8:34|     5.95|     13047|United Kingdom|\n",
      "+---------+---------+--------------------+--------+--------------+---------+----------+--------------+\n",
      "only showing top 20 rows\n",
      "\n"
     ]
    }
   ],
   "source": [
    "df_pyspark.show()"
   ]
  },
  {
   "cell_type": "markdown",
   "id": "518d6ba3",
   "metadata": {},
   "source": [
    "### Reading CSV first row as Header"
   ]
  },
  {
   "cell_type": "code",
   "execution_count": 6,
   "id": "f4b62929",
   "metadata": {},
   "outputs": [
    {
     "name": "stderr",
     "output_type": "stream",
     "text": [
      "                                                                                \r"
     ]
    },
    {
     "data": {
      "text/plain": [
       "DataFrame[InvoiceNo: string, StockCode: string, Description: string, Quantity: int, InvoiceDate: string, UnitPrice: double, CustomerID: int, Country: string]"
      ]
     },
     "execution_count": 6,
     "metadata": {},
     "output_type": "execute_result"
    }
   ],
   "source": [
    "df_pyspark= spark.read.csv('data.csv',header = True,inferSchema=True)\n",
    "df_pyspark"
   ]
  },
  {
   "cell_type": "code",
   "execution_count": 7,
   "id": "29458088",
   "metadata": {},
   "outputs": [
    {
     "name": "stdout",
     "output_type": "stream",
     "text": [
      "+---------+---------+--------------------+--------+--------------+---------+----------+--------------+\n",
      "|InvoiceNo|StockCode|         Description|Quantity|   InvoiceDate|UnitPrice|CustomerID|       Country|\n",
      "+---------+---------+--------------------+--------+--------------+---------+----------+--------------+\n",
      "|   536365|   85123A|WHITE HANGING HEA...|       6|12/1/2010 8:26|     2.55|     17850|United Kingdom|\n",
      "|   536365|    71053| WHITE METAL LANTERN|       6|12/1/2010 8:26|     3.39|     17850|United Kingdom|\n",
      "|   536365|   84406B|CREAM CUPID HEART...|       8|12/1/2010 8:26|     2.75|     17850|United Kingdom|\n",
      "|   536365|   84029G|KNITTED UNION FLA...|       6|12/1/2010 8:26|     3.39|     17850|United Kingdom|\n",
      "|   536365|   84029E|RED WOOLLY HOTTIE...|       6|12/1/2010 8:26|     3.39|     17850|United Kingdom|\n",
      "|   536365|    22752|SET 7 BABUSHKA NE...|       2|12/1/2010 8:26|     7.65|     17850|United Kingdom|\n",
      "|   536365|    21730|GLASS STAR FROSTE...|       6|12/1/2010 8:26|     4.25|     17850|United Kingdom|\n",
      "|   536366|    22633|HAND WARMER UNION...|       6|12/1/2010 8:28|     1.85|     17850|United Kingdom|\n",
      "|   536366|    22632|HAND WARMER RED P...|       6|12/1/2010 8:28|     1.85|     17850|United Kingdom|\n",
      "|   536367|    84879|ASSORTED COLOUR B...|      32|12/1/2010 8:34|     1.69|     13047|United Kingdom|\n",
      "|   536367|    22745|POPPY'S PLAYHOUSE...|       6|12/1/2010 8:34|      2.1|     13047|United Kingdom|\n",
      "|   536367|    22748|POPPY'S PLAYHOUSE...|       6|12/1/2010 8:34|      2.1|     13047|United Kingdom|\n",
      "|   536367|    22749|FELTCRAFT PRINCES...|       8|12/1/2010 8:34|     3.75|     13047|United Kingdom|\n",
      "|   536367|    22310|IVORY KNITTED MUG...|       6|12/1/2010 8:34|     1.65|     13047|United Kingdom|\n",
      "|   536367|    84969|BOX OF 6 ASSORTED...|       6|12/1/2010 8:34|     4.25|     13047|United Kingdom|\n",
      "|   536367|    22623|BOX OF VINTAGE JI...|       3|12/1/2010 8:34|     4.95|     13047|United Kingdom|\n",
      "|   536367|    22622|BOX OF VINTAGE AL...|       2|12/1/2010 8:34|     9.95|     13047|United Kingdom|\n",
      "|   536367|    21754|HOME BUILDING BLO...|       3|12/1/2010 8:34|     5.95|     13047|United Kingdom|\n",
      "|   536367|    21755|LOVE BUILDING BLO...|       3|12/1/2010 8:34|     5.95|     13047|United Kingdom|\n",
      "|   536367|    21777|RECIPE BOX WITH M...|       4|12/1/2010 8:34|     7.95|     13047|United Kingdom|\n",
      "+---------+---------+--------------------+--------+--------------+---------+----------+--------------+\n",
      "only showing top 20 rows\n",
      "\n"
     ]
    }
   ],
   "source": [
    "df_pyspark.show()"
   ]
  },
  {
   "cell_type": "markdown",
   "id": "a7cbf628",
   "metadata": {},
   "source": [
    "### Checking type of df_pyspark"
   ]
  },
  {
   "cell_type": "code",
   "execution_count": 8,
   "id": "76d94fbb",
   "metadata": {},
   "outputs": [
    {
     "data": {
      "text/plain": [
       "pyspark.sql.dataframe.DataFrame"
      ]
     },
     "execution_count": 8,
     "metadata": {},
     "output_type": "execute_result"
    }
   ],
   "source": [
    "type(df_pyspark)"
   ]
  },
  {
   "cell_type": "markdown",
   "id": "55ae46ca",
   "metadata": {},
   "source": [
    "### Head"
   ]
  },
  {
   "cell_type": "code",
   "execution_count": 9,
   "id": "f9d372e4",
   "metadata": {},
   "outputs": [
    {
     "data": {
      "text/plain": [
       "Row(InvoiceNo='536365', StockCode='85123A', Description='WHITE HANGING HEART T-LIGHT HOLDER', Quantity=6, InvoiceDate='12/1/2010 8:26', UnitPrice=2.55, CustomerID=17850, Country='United Kingdom')"
      ]
     },
     "execution_count": 9,
     "metadata": {},
     "output_type": "execute_result"
    }
   ],
   "source": [
    "df_pyspark.head()"
   ]
  },
  {
   "cell_type": "markdown",
   "id": "a674c274",
   "metadata": {},
   "source": [
    "### Showing Schema"
   ]
  },
  {
   "cell_type": "code",
   "execution_count": 10,
   "id": "110a8fa3",
   "metadata": {},
   "outputs": [
    {
     "name": "stdout",
     "output_type": "stream",
     "text": [
      "root\n",
      " |-- InvoiceNo: string (nullable = true)\n",
      " |-- StockCode: string (nullable = true)\n",
      " |-- Description: string (nullable = true)\n",
      " |-- Quantity: integer (nullable = true)\n",
      " |-- InvoiceDate: string (nullable = true)\n",
      " |-- UnitPrice: double (nullable = true)\n",
      " |-- CustomerID: integer (nullable = true)\n",
      " |-- Country: string (nullable = true)\n",
      "\n"
     ]
    }
   ],
   "source": [
    "df_pyspark.printSchema()"
   ]
  },
  {
   "cell_type": "markdown",
   "id": "eef4200f",
   "metadata": {},
   "source": [
    "### Getting Column Names"
   ]
  },
  {
   "cell_type": "code",
   "execution_count": 11,
   "id": "0e9c2572",
   "metadata": {},
   "outputs": [
    {
     "data": {
      "text/plain": [
       "['InvoiceNo',\n",
       " 'StockCode',\n",
       " 'Description',\n",
       " 'Quantity',\n",
       " 'InvoiceDate',\n",
       " 'UnitPrice',\n",
       " 'CustomerID',\n",
       " 'Country']"
      ]
     },
     "execution_count": 11,
     "metadata": {},
     "output_type": "execute_result"
    }
   ],
   "source": [
    "df_pyspark.columns"
   ]
  },
  {
   "cell_type": "markdown",
   "id": "8ba633fd",
   "metadata": {},
   "source": [
    "### Selecting Columns "
   ]
  },
  {
   "cell_type": "code",
   "execution_count": 12,
   "id": "6079f19a",
   "metadata": {},
   "outputs": [
    {
     "name": "stdout",
     "output_type": "stream",
     "text": [
      "+--------------------+--------+--------------+\n",
      "|         Description|Quantity|       Country|\n",
      "+--------------------+--------+--------------+\n",
      "|WHITE HANGING HEA...|       6|United Kingdom|\n",
      "| WHITE METAL LANTERN|       6|United Kingdom|\n",
      "|CREAM CUPID HEART...|       8|United Kingdom|\n",
      "|KNITTED UNION FLA...|       6|United Kingdom|\n",
      "|RED WOOLLY HOTTIE...|       6|United Kingdom|\n",
      "|SET 7 BABUSHKA NE...|       2|United Kingdom|\n",
      "|GLASS STAR FROSTE...|       6|United Kingdom|\n",
      "|HAND WARMER UNION...|       6|United Kingdom|\n",
      "|HAND WARMER RED P...|       6|United Kingdom|\n",
      "|ASSORTED COLOUR B...|      32|United Kingdom|\n",
      "|POPPY'S PLAYHOUSE...|       6|United Kingdom|\n",
      "|POPPY'S PLAYHOUSE...|       6|United Kingdom|\n",
      "|FELTCRAFT PRINCES...|       8|United Kingdom|\n",
      "|IVORY KNITTED MUG...|       6|United Kingdom|\n",
      "|BOX OF 6 ASSORTED...|       6|United Kingdom|\n",
      "|BOX OF VINTAGE JI...|       3|United Kingdom|\n",
      "|BOX OF VINTAGE AL...|       2|United Kingdom|\n",
      "|HOME BUILDING BLO...|       3|United Kingdom|\n",
      "|LOVE BUILDING BLO...|       3|United Kingdom|\n",
      "|RECIPE BOX WITH M...|       4|United Kingdom|\n",
      "+--------------------+--------+--------------+\n",
      "only showing top 20 rows\n",
      "\n"
     ]
    }
   ],
   "source": [
    "df_pyspark.select(['Description','Quantity','Country']).show()"
   ]
  },
  {
   "cell_type": "markdown",
   "id": "4ce9150d",
   "metadata": {},
   "source": [
    "### Describe Function Usage"
   ]
  },
  {
   "cell_type": "code",
   "execution_count": 13,
   "id": "403cf68d",
   "metadata": {},
   "outputs": [
    {
     "name": "stderr",
     "output_type": "stream",
     "text": [
      "[Stage 7:============================================>              (6 + 2) / 8]\r"
     ]
    },
    {
     "name": "stdout",
     "output_type": "stream",
     "text": [
      "+-------+------------------+------------------+--------------------+------------------+---------------+------------------+------------------+-----------+\n",
      "|summary|         InvoiceNo|         StockCode|         Description|          Quantity|    InvoiceDate|         UnitPrice|        CustomerID|    Country|\n",
      "+-------+------------------+------------------+--------------------+------------------+---------------+------------------+------------------+-----------+\n",
      "|  count|            541909|            541909|              540455|            541909|         541909|            541909|            406829|     541909|\n",
      "|   mean|  559965.752026781|27623.240210938104|             20713.0|  9.55224954743324|           null|4.6111136260897085|15287.690570239585|       null|\n",
      "| stddev|13428.417280796779|16799.737628427658|                null|218.08115785023438|           null| 96.75985306117963|1713.6003033215982|       null|\n",
      "|    min|            536365|             10002| 4 PURPLE FLOCK D...|            -80995|1/10/2011 10:04|         -11062.06|             12346|  Australia|\n",
      "|    max|           C581569|                 m|   wrongly sold sets|             80995|  9/9/2011 9:52|           38970.0|             18287|Unspecified|\n",
      "+-------+------------------+------------------+--------------------+------------------+---------------+------------------+------------------+-----------+\n",
      "\n"
     ]
    },
    {
     "name": "stderr",
     "output_type": "stream",
     "text": [
      "\r",
      "                                                                                \r"
     ]
    }
   ],
   "source": [
    "df_pyspark.describe().show()"
   ]
  },
  {
   "cell_type": "markdown",
   "id": "0d899d88",
   "metadata": {},
   "source": [
    "### Adding a Column"
   ]
  },
  {
   "cell_type": "code",
   "execution_count": 14,
   "id": "a7953a25",
   "metadata": {},
   "outputs": [],
   "source": [
    "df_pyspark = df_pyspark.withColumn('Quantity + 12',df_pyspark['Quantity']+12)"
   ]
  },
  {
   "cell_type": "code",
   "execution_count": 15,
   "id": "f8f8dad6",
   "metadata": {},
   "outputs": [
    {
     "name": "stdout",
     "output_type": "stream",
     "text": [
      "+---------+---------+--------------------+--------+--------------+---------+----------+--------------+-------------+\n",
      "|InvoiceNo|StockCode|         Description|Quantity|   InvoiceDate|UnitPrice|CustomerID|       Country|Quantity + 12|\n",
      "+---------+---------+--------------------+--------+--------------+---------+----------+--------------+-------------+\n",
      "|   536365|   85123A|WHITE HANGING HEA...|       6|12/1/2010 8:26|     2.55|     17850|United Kingdom|           18|\n",
      "|   536365|    71053| WHITE METAL LANTERN|       6|12/1/2010 8:26|     3.39|     17850|United Kingdom|           18|\n",
      "|   536365|   84406B|CREAM CUPID HEART...|       8|12/1/2010 8:26|     2.75|     17850|United Kingdom|           20|\n",
      "|   536365|   84029G|KNITTED UNION FLA...|       6|12/1/2010 8:26|     3.39|     17850|United Kingdom|           18|\n",
      "|   536365|   84029E|RED WOOLLY HOTTIE...|       6|12/1/2010 8:26|     3.39|     17850|United Kingdom|           18|\n",
      "|   536365|    22752|SET 7 BABUSHKA NE...|       2|12/1/2010 8:26|     7.65|     17850|United Kingdom|           14|\n",
      "|   536365|    21730|GLASS STAR FROSTE...|       6|12/1/2010 8:26|     4.25|     17850|United Kingdom|           18|\n",
      "|   536366|    22633|HAND WARMER UNION...|       6|12/1/2010 8:28|     1.85|     17850|United Kingdom|           18|\n",
      "|   536366|    22632|HAND WARMER RED P...|       6|12/1/2010 8:28|     1.85|     17850|United Kingdom|           18|\n",
      "|   536367|    84879|ASSORTED COLOUR B...|      32|12/1/2010 8:34|     1.69|     13047|United Kingdom|           44|\n",
      "|   536367|    22745|POPPY'S PLAYHOUSE...|       6|12/1/2010 8:34|      2.1|     13047|United Kingdom|           18|\n",
      "|   536367|    22748|POPPY'S PLAYHOUSE...|       6|12/1/2010 8:34|      2.1|     13047|United Kingdom|           18|\n",
      "|   536367|    22749|FELTCRAFT PRINCES...|       8|12/1/2010 8:34|     3.75|     13047|United Kingdom|           20|\n",
      "|   536367|    22310|IVORY KNITTED MUG...|       6|12/1/2010 8:34|     1.65|     13047|United Kingdom|           18|\n",
      "|   536367|    84969|BOX OF 6 ASSORTED...|       6|12/1/2010 8:34|     4.25|     13047|United Kingdom|           18|\n",
      "|   536367|    22623|BOX OF VINTAGE JI...|       3|12/1/2010 8:34|     4.95|     13047|United Kingdom|           15|\n",
      "|   536367|    22622|BOX OF VINTAGE AL...|       2|12/1/2010 8:34|     9.95|     13047|United Kingdom|           14|\n",
      "|   536367|    21754|HOME BUILDING BLO...|       3|12/1/2010 8:34|     5.95|     13047|United Kingdom|           15|\n",
      "|   536367|    21755|LOVE BUILDING BLO...|       3|12/1/2010 8:34|     5.95|     13047|United Kingdom|           15|\n",
      "|   536367|    21777|RECIPE BOX WITH M...|       4|12/1/2010 8:34|     7.95|     13047|United Kingdom|           16|\n",
      "+---------+---------+--------------------+--------+--------------+---------+----------+--------------+-------------+\n",
      "only showing top 20 rows\n",
      "\n"
     ]
    }
   ],
   "source": [
    "df_pyspark.show()"
   ]
  },
  {
   "cell_type": "markdown",
   "id": "c38edf6c",
   "metadata": {},
   "source": [
    "### Droping a column"
   ]
  },
  {
   "cell_type": "code",
   "execution_count": 16,
   "id": "941ffdc9",
   "metadata": {},
   "outputs": [
    {
     "name": "stdout",
     "output_type": "stream",
     "text": [
      "+---------+--------------------+--------+--------------+---------+----------+--------------+-------------+\n",
      "|StockCode|         Description|Quantity|   InvoiceDate|UnitPrice|CustomerID|       Country|Quantity + 12|\n",
      "+---------+--------------------+--------+--------------+---------+----------+--------------+-------------+\n",
      "|   85123A|WHITE HANGING HEA...|       6|12/1/2010 8:26|     2.55|     17850|United Kingdom|           18|\n",
      "|    71053| WHITE METAL LANTERN|       6|12/1/2010 8:26|     3.39|     17850|United Kingdom|           18|\n",
      "|   84406B|CREAM CUPID HEART...|       8|12/1/2010 8:26|     2.75|     17850|United Kingdom|           20|\n",
      "|   84029G|KNITTED UNION FLA...|       6|12/1/2010 8:26|     3.39|     17850|United Kingdom|           18|\n",
      "|   84029E|RED WOOLLY HOTTIE...|       6|12/1/2010 8:26|     3.39|     17850|United Kingdom|           18|\n",
      "|    22752|SET 7 BABUSHKA NE...|       2|12/1/2010 8:26|     7.65|     17850|United Kingdom|           14|\n",
      "|    21730|GLASS STAR FROSTE...|       6|12/1/2010 8:26|     4.25|     17850|United Kingdom|           18|\n",
      "|    22633|HAND WARMER UNION...|       6|12/1/2010 8:28|     1.85|     17850|United Kingdom|           18|\n",
      "|    22632|HAND WARMER RED P...|       6|12/1/2010 8:28|     1.85|     17850|United Kingdom|           18|\n",
      "|    84879|ASSORTED COLOUR B...|      32|12/1/2010 8:34|     1.69|     13047|United Kingdom|           44|\n",
      "|    22745|POPPY'S PLAYHOUSE...|       6|12/1/2010 8:34|      2.1|     13047|United Kingdom|           18|\n",
      "|    22748|POPPY'S PLAYHOUSE...|       6|12/1/2010 8:34|      2.1|     13047|United Kingdom|           18|\n",
      "|    22749|FELTCRAFT PRINCES...|       8|12/1/2010 8:34|     3.75|     13047|United Kingdom|           20|\n",
      "|    22310|IVORY KNITTED MUG...|       6|12/1/2010 8:34|     1.65|     13047|United Kingdom|           18|\n",
      "|    84969|BOX OF 6 ASSORTED...|       6|12/1/2010 8:34|     4.25|     13047|United Kingdom|           18|\n",
      "|    22623|BOX OF VINTAGE JI...|       3|12/1/2010 8:34|     4.95|     13047|United Kingdom|           15|\n",
      "|    22622|BOX OF VINTAGE AL...|       2|12/1/2010 8:34|     9.95|     13047|United Kingdom|           14|\n",
      "|    21754|HOME BUILDING BLO...|       3|12/1/2010 8:34|     5.95|     13047|United Kingdom|           15|\n",
      "|    21755|LOVE BUILDING BLO...|       3|12/1/2010 8:34|     5.95|     13047|United Kingdom|           15|\n",
      "|    21777|RECIPE BOX WITH M...|       4|12/1/2010 8:34|     7.95|     13047|United Kingdom|           16|\n",
      "+---------+--------------------+--------+--------------+---------+----------+--------------+-------------+\n",
      "only showing top 20 rows\n",
      "\n"
     ]
    }
   ],
   "source": [
    "df_pyspark.drop('InvoiceNo').show()"
   ]
  },
  {
   "cell_type": "markdown",
   "id": "2629dd4b",
   "metadata": {},
   "source": [
    "### Renaming Column Name"
   ]
  },
  {
   "cell_type": "code",
   "execution_count": 17,
   "id": "b2cfd07d",
   "metadata": {},
   "outputs": [],
   "source": [
    "df_pyspark= df_pyspark.withColumnRenamed('UnitPrice','Price')"
   ]
  },
  {
   "cell_type": "code",
   "execution_count": 18,
   "id": "f1a22f4c",
   "metadata": {},
   "outputs": [
    {
     "name": "stdout",
     "output_type": "stream",
     "text": [
      "+---------+---------+--------------------+--------+--------------+-----+----------+--------------+-------------+\n",
      "|InvoiceNo|StockCode|         Description|Quantity|   InvoiceDate|Price|CustomerID|       Country|Quantity + 12|\n",
      "+---------+---------+--------------------+--------+--------------+-----+----------+--------------+-------------+\n",
      "|   536365|   85123A|WHITE HANGING HEA...|       6|12/1/2010 8:26| 2.55|     17850|United Kingdom|           18|\n",
      "|   536365|    71053| WHITE METAL LANTERN|       6|12/1/2010 8:26| 3.39|     17850|United Kingdom|           18|\n",
      "|   536365|   84406B|CREAM CUPID HEART...|       8|12/1/2010 8:26| 2.75|     17850|United Kingdom|           20|\n",
      "|   536365|   84029G|KNITTED UNION FLA...|       6|12/1/2010 8:26| 3.39|     17850|United Kingdom|           18|\n",
      "|   536365|   84029E|RED WOOLLY HOTTIE...|       6|12/1/2010 8:26| 3.39|     17850|United Kingdom|           18|\n",
      "|   536365|    22752|SET 7 BABUSHKA NE...|       2|12/1/2010 8:26| 7.65|     17850|United Kingdom|           14|\n",
      "|   536365|    21730|GLASS STAR FROSTE...|       6|12/1/2010 8:26| 4.25|     17850|United Kingdom|           18|\n",
      "|   536366|    22633|HAND WARMER UNION...|       6|12/1/2010 8:28| 1.85|     17850|United Kingdom|           18|\n",
      "|   536366|    22632|HAND WARMER RED P...|       6|12/1/2010 8:28| 1.85|     17850|United Kingdom|           18|\n",
      "|   536367|    84879|ASSORTED COLOUR B...|      32|12/1/2010 8:34| 1.69|     13047|United Kingdom|           44|\n",
      "|   536367|    22745|POPPY'S PLAYHOUSE...|       6|12/1/2010 8:34|  2.1|     13047|United Kingdom|           18|\n",
      "|   536367|    22748|POPPY'S PLAYHOUSE...|       6|12/1/2010 8:34|  2.1|     13047|United Kingdom|           18|\n",
      "|   536367|    22749|FELTCRAFT PRINCES...|       8|12/1/2010 8:34| 3.75|     13047|United Kingdom|           20|\n",
      "|   536367|    22310|IVORY KNITTED MUG...|       6|12/1/2010 8:34| 1.65|     13047|United Kingdom|           18|\n",
      "|   536367|    84969|BOX OF 6 ASSORTED...|       6|12/1/2010 8:34| 4.25|     13047|United Kingdom|           18|\n",
      "|   536367|    22623|BOX OF VINTAGE JI...|       3|12/1/2010 8:34| 4.95|     13047|United Kingdom|           15|\n",
      "|   536367|    22622|BOX OF VINTAGE AL...|       2|12/1/2010 8:34| 9.95|     13047|United Kingdom|           14|\n",
      "|   536367|    21754|HOME BUILDING BLO...|       3|12/1/2010 8:34| 5.95|     13047|United Kingdom|           15|\n",
      "|   536367|    21755|LOVE BUILDING BLO...|       3|12/1/2010 8:34| 5.95|     13047|United Kingdom|           15|\n",
      "|   536367|    21777|RECIPE BOX WITH M...|       4|12/1/2010 8:34| 7.95|     13047|United Kingdom|           16|\n",
      "+---------+---------+--------------------+--------+--------------+-----+----------+--------------+-------------+\n",
      "only showing top 20 rows\n",
      "\n"
     ]
    }
   ],
   "source": [
    "df_pyspark.show()"
   ]
  },
  {
   "cell_type": "markdown",
   "id": "946e1949",
   "metadata": {},
   "source": [
    "### Removing Null Values"
   ]
  },
  {
   "cell_type": "code",
   "execution_count": 19,
   "id": "c9ca5982",
   "metadata": {},
   "outputs": [
    {
     "name": "stdout",
     "output_type": "stream",
     "text": [
      "+---------+---------+--------------------+--------+--------------+-----+----------+--------------+-------------+\n",
      "|InvoiceNo|StockCode|         Description|Quantity|   InvoiceDate|Price|CustomerID|       Country|Quantity + 12|\n",
      "+---------+---------+--------------------+--------+--------------+-----+----------+--------------+-------------+\n",
      "|   536365|   85123A|WHITE HANGING HEA...|       6|12/1/2010 8:26| 2.55|     17850|United Kingdom|           18|\n",
      "|   536365|    71053| WHITE METAL LANTERN|       6|12/1/2010 8:26| 3.39|     17850|United Kingdom|           18|\n",
      "|   536365|   84406B|CREAM CUPID HEART...|       8|12/1/2010 8:26| 2.75|     17850|United Kingdom|           20|\n",
      "|   536365|   84029G|KNITTED UNION FLA...|       6|12/1/2010 8:26| 3.39|     17850|United Kingdom|           18|\n",
      "|   536365|   84029E|RED WOOLLY HOTTIE...|       6|12/1/2010 8:26| 3.39|     17850|United Kingdom|           18|\n",
      "|   536365|    22752|SET 7 BABUSHKA NE...|       2|12/1/2010 8:26| 7.65|     17850|United Kingdom|           14|\n",
      "|   536365|    21730|GLASS STAR FROSTE...|       6|12/1/2010 8:26| 4.25|     17850|United Kingdom|           18|\n",
      "|   536366|    22633|HAND WARMER UNION...|       6|12/1/2010 8:28| 1.85|     17850|United Kingdom|           18|\n",
      "|   536366|    22632|HAND WARMER RED P...|       6|12/1/2010 8:28| 1.85|     17850|United Kingdom|           18|\n",
      "|   536367|    84879|ASSORTED COLOUR B...|      32|12/1/2010 8:34| 1.69|     13047|United Kingdom|           44|\n",
      "|   536367|    22745|POPPY'S PLAYHOUSE...|       6|12/1/2010 8:34|  2.1|     13047|United Kingdom|           18|\n",
      "|   536367|    22748|POPPY'S PLAYHOUSE...|       6|12/1/2010 8:34|  2.1|     13047|United Kingdom|           18|\n",
      "|   536367|    22749|FELTCRAFT PRINCES...|       8|12/1/2010 8:34| 3.75|     13047|United Kingdom|           20|\n",
      "|   536367|    22310|IVORY KNITTED MUG...|       6|12/1/2010 8:34| 1.65|     13047|United Kingdom|           18|\n",
      "|   536367|    84969|BOX OF 6 ASSORTED...|       6|12/1/2010 8:34| 4.25|     13047|United Kingdom|           18|\n",
      "|   536367|    22623|BOX OF VINTAGE JI...|       3|12/1/2010 8:34| 4.95|     13047|United Kingdom|           15|\n",
      "|   536367|    22622|BOX OF VINTAGE AL...|       2|12/1/2010 8:34| 9.95|     13047|United Kingdom|           14|\n",
      "|   536367|    21754|HOME BUILDING BLO...|       3|12/1/2010 8:34| 5.95|     13047|United Kingdom|           15|\n",
      "|   536367|    21755|LOVE BUILDING BLO...|       3|12/1/2010 8:34| 5.95|     13047|United Kingdom|           15|\n",
      "|   536367|    21777|RECIPE BOX WITH M...|       4|12/1/2010 8:34| 7.95|     13047|United Kingdom|           16|\n",
      "+---------+---------+--------------------+--------+--------------+-----+----------+--------------+-------------+\n",
      "only showing top 20 rows\n",
      "\n"
     ]
    }
   ],
   "source": [
    "df_pyspark.na.drop().show()"
   ]
  },
  {
   "cell_type": "code",
   "execution_count": 20,
   "id": "c22ee1ee",
   "metadata": {},
   "outputs": [
    {
     "name": "stdout",
     "output_type": "stream",
     "text": [
      "+---------+---------+--------------------+--------+--------------+-----+----------+--------------+-------------+\n",
      "|InvoiceNo|StockCode|         Description|Quantity|   InvoiceDate|Price|CustomerID|       Country|Quantity + 12|\n",
      "+---------+---------+--------------------+--------+--------------+-----+----------+--------------+-------------+\n",
      "|   536365|   85123A|WHITE HANGING HEA...|       6|12/1/2010 8:26| 2.55|     17850|United Kingdom|           18|\n",
      "|   536365|    71053| WHITE METAL LANTERN|       6|12/1/2010 8:26| 3.39|     17850|United Kingdom|           18|\n",
      "|   536365|   84406B|CREAM CUPID HEART...|       8|12/1/2010 8:26| 2.75|     17850|United Kingdom|           20|\n",
      "|   536365|   84029G|KNITTED UNION FLA...|       6|12/1/2010 8:26| 3.39|     17850|United Kingdom|           18|\n",
      "|   536365|   84029E|RED WOOLLY HOTTIE...|       6|12/1/2010 8:26| 3.39|     17850|United Kingdom|           18|\n",
      "|   536365|    22752|SET 7 BABUSHKA NE...|       2|12/1/2010 8:26| 7.65|     17850|United Kingdom|           14|\n",
      "|   536365|    21730|GLASS STAR FROSTE...|       6|12/1/2010 8:26| 4.25|     17850|United Kingdom|           18|\n",
      "|   536366|    22633|HAND WARMER UNION...|       6|12/1/2010 8:28| 1.85|     17850|United Kingdom|           18|\n",
      "|   536366|    22632|HAND WARMER RED P...|       6|12/1/2010 8:28| 1.85|     17850|United Kingdom|           18|\n",
      "|   536367|    84879|ASSORTED COLOUR B...|      32|12/1/2010 8:34| 1.69|     13047|United Kingdom|           44|\n",
      "|   536367|    22745|POPPY'S PLAYHOUSE...|       6|12/1/2010 8:34|  2.1|     13047|United Kingdom|           18|\n",
      "|   536367|    22748|POPPY'S PLAYHOUSE...|       6|12/1/2010 8:34|  2.1|     13047|United Kingdom|           18|\n",
      "|   536367|    22749|FELTCRAFT PRINCES...|       8|12/1/2010 8:34| 3.75|     13047|United Kingdom|           20|\n",
      "|   536367|    22310|IVORY KNITTED MUG...|       6|12/1/2010 8:34| 1.65|     13047|United Kingdom|           18|\n",
      "|   536367|    84969|BOX OF 6 ASSORTED...|       6|12/1/2010 8:34| 4.25|     13047|United Kingdom|           18|\n",
      "|   536367|    22623|BOX OF VINTAGE JI...|       3|12/1/2010 8:34| 4.95|     13047|United Kingdom|           15|\n",
      "|   536367|    22622|BOX OF VINTAGE AL...|       2|12/1/2010 8:34| 9.95|     13047|United Kingdom|           14|\n",
      "|   536367|    21754|HOME BUILDING BLO...|       3|12/1/2010 8:34| 5.95|     13047|United Kingdom|           15|\n",
      "|   536367|    21755|LOVE BUILDING BLO...|       3|12/1/2010 8:34| 5.95|     13047|United Kingdom|           15|\n",
      "|   536367|    21777|RECIPE BOX WITH M...|       4|12/1/2010 8:34| 7.95|     13047|United Kingdom|           16|\n",
      "+---------+---------+--------------------+--------+--------------+-----+----------+--------------+-------------+\n",
      "only showing top 20 rows\n",
      "\n"
     ]
    }
   ],
   "source": [
    "df_pyspark.na.drop(how='any').show()"
   ]
  },
  {
   "cell_type": "code",
   "execution_count": 21,
   "id": "6dad2eb5",
   "metadata": {},
   "outputs": [
    {
     "name": "stdout",
     "output_type": "stream",
     "text": [
      "+---------+---------+--------------------+--------+--------------+-----+----------+--------------+-------------+\n",
      "|InvoiceNo|StockCode|         Description|Quantity|   InvoiceDate|Price|CustomerID|       Country|Quantity + 12|\n",
      "+---------+---------+--------------------+--------+--------------+-----+----------+--------------+-------------+\n",
      "|   536365|   85123A|WHITE HANGING HEA...|       6|12/1/2010 8:26| 2.55|     17850|United Kingdom|           18|\n",
      "|   536365|    71053| WHITE METAL LANTERN|       6|12/1/2010 8:26| 3.39|     17850|United Kingdom|           18|\n",
      "|   536365|   84406B|CREAM CUPID HEART...|       8|12/1/2010 8:26| 2.75|     17850|United Kingdom|           20|\n",
      "|   536365|   84029G|KNITTED UNION FLA...|       6|12/1/2010 8:26| 3.39|     17850|United Kingdom|           18|\n",
      "|   536365|   84029E|RED WOOLLY HOTTIE...|       6|12/1/2010 8:26| 3.39|     17850|United Kingdom|           18|\n",
      "|   536365|    22752|SET 7 BABUSHKA NE...|       2|12/1/2010 8:26| 7.65|     17850|United Kingdom|           14|\n",
      "|   536365|    21730|GLASS STAR FROSTE...|       6|12/1/2010 8:26| 4.25|     17850|United Kingdom|           18|\n",
      "|   536366|    22633|HAND WARMER UNION...|       6|12/1/2010 8:28| 1.85|     17850|United Kingdom|           18|\n",
      "|   536366|    22632|HAND WARMER RED P...|       6|12/1/2010 8:28| 1.85|     17850|United Kingdom|           18|\n",
      "|   536367|    84879|ASSORTED COLOUR B...|      32|12/1/2010 8:34| 1.69|     13047|United Kingdom|           44|\n",
      "|   536367|    22745|POPPY'S PLAYHOUSE...|       6|12/1/2010 8:34|  2.1|     13047|United Kingdom|           18|\n",
      "|   536367|    22748|POPPY'S PLAYHOUSE...|       6|12/1/2010 8:34|  2.1|     13047|United Kingdom|           18|\n",
      "|   536367|    22749|FELTCRAFT PRINCES...|       8|12/1/2010 8:34| 3.75|     13047|United Kingdom|           20|\n",
      "|   536367|    22310|IVORY KNITTED MUG...|       6|12/1/2010 8:34| 1.65|     13047|United Kingdom|           18|\n",
      "|   536367|    84969|BOX OF 6 ASSORTED...|       6|12/1/2010 8:34| 4.25|     13047|United Kingdom|           18|\n",
      "|   536367|    22623|BOX OF VINTAGE JI...|       3|12/1/2010 8:34| 4.95|     13047|United Kingdom|           15|\n",
      "|   536367|    22622|BOX OF VINTAGE AL...|       2|12/1/2010 8:34| 9.95|     13047|United Kingdom|           14|\n",
      "|   536367|    21754|HOME BUILDING BLO...|       3|12/1/2010 8:34| 5.95|     13047|United Kingdom|           15|\n",
      "|   536367|    21755|LOVE BUILDING BLO...|       3|12/1/2010 8:34| 5.95|     13047|United Kingdom|           15|\n",
      "|   536367|    21777|RECIPE BOX WITH M...|       4|12/1/2010 8:34| 7.95|     13047|United Kingdom|           16|\n",
      "+---------+---------+--------------------+--------+--------------+-----+----------+--------------+-------------+\n",
      "only showing top 20 rows\n",
      "\n"
     ]
    }
   ],
   "source": [
    "df_pyspark.na.drop(how='any',thresh=2).show()"
   ]
  },
  {
   "cell_type": "code",
   "execution_count": 22,
   "id": "d1c80277",
   "metadata": {},
   "outputs": [
    {
     "name": "stdout",
     "output_type": "stream",
     "text": [
      "+---------+---------+--------------------+--------+--------------+-----+----------+--------------+-------------+\n",
      "|InvoiceNo|StockCode|         Description|Quantity|   InvoiceDate|Price|CustomerID|       Country|Quantity + 12|\n",
      "+---------+---------+--------------------+--------+--------------+-----+----------+--------------+-------------+\n",
      "|   536365|   85123A|WHITE HANGING HEA...|       6|12/1/2010 8:26| 2.55|     17850|United Kingdom|           18|\n",
      "|   536365|    71053| WHITE METAL LANTERN|       6|12/1/2010 8:26| 3.39|     17850|United Kingdom|           18|\n",
      "|   536365|   84406B|CREAM CUPID HEART...|       8|12/1/2010 8:26| 2.75|     17850|United Kingdom|           20|\n",
      "|   536365|   84029G|KNITTED UNION FLA...|       6|12/1/2010 8:26| 3.39|     17850|United Kingdom|           18|\n",
      "|   536365|   84029E|RED WOOLLY HOTTIE...|       6|12/1/2010 8:26| 3.39|     17850|United Kingdom|           18|\n",
      "|   536365|    22752|SET 7 BABUSHKA NE...|       2|12/1/2010 8:26| 7.65|     17850|United Kingdom|           14|\n",
      "|   536365|    21730|GLASS STAR FROSTE...|       6|12/1/2010 8:26| 4.25|     17850|United Kingdom|           18|\n",
      "|   536366|    22633|HAND WARMER UNION...|       6|12/1/2010 8:28| 1.85|     17850|United Kingdom|           18|\n",
      "|   536366|    22632|HAND WARMER RED P...|       6|12/1/2010 8:28| 1.85|     17850|United Kingdom|           18|\n",
      "|   536367|    84879|ASSORTED COLOUR B...|      32|12/1/2010 8:34| 1.69|     13047|United Kingdom|           44|\n",
      "|   536367|    22745|POPPY'S PLAYHOUSE...|       6|12/1/2010 8:34|  2.1|     13047|United Kingdom|           18|\n",
      "|   536367|    22748|POPPY'S PLAYHOUSE...|       6|12/1/2010 8:34|  2.1|     13047|United Kingdom|           18|\n",
      "|   536367|    22749|FELTCRAFT PRINCES...|       8|12/1/2010 8:34| 3.75|     13047|United Kingdom|           20|\n",
      "|   536367|    22310|IVORY KNITTED MUG...|       6|12/1/2010 8:34| 1.65|     13047|United Kingdom|           18|\n",
      "|   536367|    84969|BOX OF 6 ASSORTED...|       6|12/1/2010 8:34| 4.25|     13047|United Kingdom|           18|\n",
      "|   536367|    22623|BOX OF VINTAGE JI...|       3|12/1/2010 8:34| 4.95|     13047|United Kingdom|           15|\n",
      "|   536367|    22622|BOX OF VINTAGE AL...|       2|12/1/2010 8:34| 9.95|     13047|United Kingdom|           14|\n",
      "|   536367|    21754|HOME BUILDING BLO...|       3|12/1/2010 8:34| 5.95|     13047|United Kingdom|           15|\n",
      "|   536367|    21755|LOVE BUILDING BLO...|       3|12/1/2010 8:34| 5.95|     13047|United Kingdom|           15|\n",
      "|   536367|    21777|RECIPE BOX WITH M...|       4|12/1/2010 8:34| 7.95|     13047|United Kingdom|           16|\n",
      "+---------+---------+--------------------+--------+--------------+-----+----------+--------------+-------------+\n",
      "only showing top 20 rows\n",
      "\n"
     ]
    }
   ],
   "source": [
    "df_pyspark.na.drop(how='any',subset=['Quantity']).show()"
   ]
  },
  {
   "cell_type": "markdown",
   "id": "3dd56a56",
   "metadata": {},
   "source": [
    "### Fill Missing Value"
   ]
  },
  {
   "cell_type": "code",
   "execution_count": 23,
   "id": "795be884",
   "metadata": {},
   "outputs": [
    {
     "name": "stdout",
     "output_type": "stream",
     "text": [
      "+---------+---------+--------------------+--------+--------------+-----+----------+--------------+-------------+\n",
      "|InvoiceNo|StockCode|         Description|Quantity|   InvoiceDate|Price|CustomerID|       Country|Quantity + 12|\n",
      "+---------+---------+--------------------+--------+--------------+-----+----------+--------------+-------------+\n",
      "|   536365|   85123A|WHITE HANGING HEA...|       6|12/1/2010 8:26| 2.55|     17850|United Kingdom|           18|\n",
      "|   536365|    71053| WHITE METAL LANTERN|       6|12/1/2010 8:26| 3.39|     17850|United Kingdom|           18|\n",
      "|   536365|   84406B|CREAM CUPID HEART...|       8|12/1/2010 8:26| 2.75|     17850|United Kingdom|           20|\n",
      "|   536365|   84029G|KNITTED UNION FLA...|       6|12/1/2010 8:26| 3.39|     17850|United Kingdom|           18|\n",
      "|   536365|   84029E|RED WOOLLY HOTTIE...|       6|12/1/2010 8:26| 3.39|     17850|United Kingdom|           18|\n",
      "|   536365|    22752|SET 7 BABUSHKA NE...|       2|12/1/2010 8:26| 7.65|     17850|United Kingdom|           14|\n",
      "|   536365|    21730|GLASS STAR FROSTE...|       6|12/1/2010 8:26| 4.25|     17850|United Kingdom|           18|\n",
      "|   536366|    22633|HAND WARMER UNION...|       6|12/1/2010 8:28| 1.85|     17850|United Kingdom|           18|\n",
      "|   536366|    22632|HAND WARMER RED P...|       6|12/1/2010 8:28| 1.85|     17850|United Kingdom|           18|\n",
      "|   536367|    84879|ASSORTED COLOUR B...|      32|12/1/2010 8:34| 1.69|     13047|United Kingdom|           44|\n",
      "|   536367|    22745|POPPY'S PLAYHOUSE...|       6|12/1/2010 8:34|  2.1|     13047|United Kingdom|           18|\n",
      "|   536367|    22748|POPPY'S PLAYHOUSE...|       6|12/1/2010 8:34|  2.1|     13047|United Kingdom|           18|\n",
      "|   536367|    22749|FELTCRAFT PRINCES...|       8|12/1/2010 8:34| 3.75|     13047|United Kingdom|           20|\n",
      "|   536367|    22310|IVORY KNITTED MUG...|       6|12/1/2010 8:34| 1.65|     13047|United Kingdom|           18|\n",
      "|   536367|    84969|BOX OF 6 ASSORTED...|       6|12/1/2010 8:34| 4.25|     13047|United Kingdom|           18|\n",
      "|   536367|    22623|BOX OF VINTAGE JI...|       3|12/1/2010 8:34| 4.95|     13047|United Kingdom|           15|\n",
      "|   536367|    22622|BOX OF VINTAGE AL...|       2|12/1/2010 8:34| 9.95|     13047|United Kingdom|           14|\n",
      "|   536367|    21754|HOME BUILDING BLO...|       3|12/1/2010 8:34| 5.95|     13047|United Kingdom|           15|\n",
      "|   536367|    21755|LOVE BUILDING BLO...|       3|12/1/2010 8:34| 5.95|     13047|United Kingdom|           15|\n",
      "|   536367|    21777|RECIPE BOX WITH M...|       4|12/1/2010 8:34| 7.95|     13047|United Kingdom|           16|\n",
      "+---------+---------+--------------------+--------+--------------+-----+----------+--------------+-------------+\n",
      "only showing top 20 rows\n",
      "\n"
     ]
    }
   ],
   "source": [
    "df_pyspark.na.fill('N/A','Description').show()"
   ]
  },
  {
   "cell_type": "markdown",
   "id": "2119b372",
   "metadata": {},
   "source": [
    "### Filtering Operations"
   ]
  },
  {
   "cell_type": "code",
   "execution_count": 24,
   "id": "2c8f16d3",
   "metadata": {},
   "outputs": [
    {
     "name": "stdout",
     "output_type": "stream",
     "text": [
      "+---------+---------+--------------------+--------+--------------+-----+----------+--------------+-------------+\n",
      "|InvoiceNo|StockCode|         Description|Quantity|   InvoiceDate|Price|CustomerID|       Country|Quantity + 12|\n",
      "+---------+---------+--------------------+--------+--------------+-----+----------+--------------+-------------+\n",
      "|   536365|   84406B|CREAM CUPID HEART...|       8|12/1/2010 8:26| 2.75|     17850|United Kingdom|           20|\n",
      "|   536367|    84879|ASSORTED COLOUR B...|      32|12/1/2010 8:34| 1.69|     13047|United Kingdom|           44|\n",
      "|   536367|    22749|FELTCRAFT PRINCES...|       8|12/1/2010 8:34| 3.75|     13047|United Kingdom|           20|\n",
      "|   536370|    22728|ALARM CLOCK BAKEL...|      24|12/1/2010 8:45| 3.75|     12583|        France|           36|\n",
      "|   536370|    22727|ALARM CLOCK BAKEL...|      24|12/1/2010 8:45| 3.75|     12583|        France|           36|\n",
      "|   536370|    22726|ALARM CLOCK BAKEL...|      12|12/1/2010 8:45| 3.75|     12583|        France|           24|\n",
      "|   536370|    21724|PANDA AND BUNNIES...|      12|12/1/2010 8:45| 0.85|     12583|        France|           24|\n",
      "|   536370|    21883|    STARS GIFT TAPE |      24|12/1/2010 8:45| 0.65|     12583|        France|           36|\n",
      "|   536370|    10002|INFLATABLE POLITI...|      48|12/1/2010 8:45| 0.85|     12583|        France|           60|\n",
      "|   536370|    21791|VINTAGE HEADS AND...|      24|12/1/2010 8:45| 1.25|     12583|        France|           36|\n",
      "|   536370|    21035|SET/2 RED RETROSP...|      18|12/1/2010 8:45| 2.95|     12583|        France|           30|\n",
      "|   536370|    22326|ROUND SNACK BOXES...|      24|12/1/2010 8:45| 2.95|     12583|        France|           36|\n",
      "|   536370|    22629| SPACEBOY LUNCH BOX |      24|12/1/2010 8:45| 1.95|     12583|        France|           36|\n",
      "|   536370|    22659|LUNCH BOX I LOVE ...|      24|12/1/2010 8:45| 1.95|     12583|        France|           36|\n",
      "|   536370|    22631|CIRCUS PARADE LUN...|      24|12/1/2010 8:45| 1.95|     12583|        France|           36|\n",
      "|   536370|    22661|CHARLOTTE BAG DOL...|      20|12/1/2010 8:45| 0.85|     12583|        France|           32|\n",
      "|   536370|    21731|RED TOADSTOOL LED...|      24|12/1/2010 8:45| 1.65|     12583|        France|           36|\n",
      "|   536370|    22900| SET 2 TEA TOWELS...|      24|12/1/2010 8:45| 2.95|     12583|        France|           36|\n",
      "|   536370|    21913|VINTAGE SEASIDE J...|      12|12/1/2010 8:45| 3.75|     12583|        France|           24|\n",
      "|   536370|    22540|MINI JIGSAW CIRCU...|      24|12/1/2010 8:45| 0.42|     12583|        France|           36|\n",
      "+---------+---------+--------------------+--------+--------------+-----+----------+--------------+-------------+\n",
      "only showing top 20 rows\n",
      "\n"
     ]
    }
   ],
   "source": [
    "df_pyspark.filter('Quantity>6').show()"
   ]
  },
  {
   "cell_type": "code",
   "execution_count": 27,
   "id": "111e75f5",
   "metadata": {},
   "outputs": [
    {
     "name": "stdout",
     "output_type": "stream",
     "text": [
      "+---------+---------+--------------------+--------+--------------+-----+----------+--------------+-------------+\n",
      "|InvoiceNo|StockCode|         Description|Quantity|   InvoiceDate|Price|CustomerID|       Country|Quantity + 12|\n",
      "+---------+---------+--------------------+--------+--------------+-----+----------+--------------+-------------+\n",
      "|   536365|   85123A|WHITE HANGING HEA...|       6|12/1/2010 8:26| 2.55|     17850|United Kingdom|           18|\n",
      "|   536365|    71053| WHITE METAL LANTERN|       6|12/1/2010 8:26| 3.39|     17850|United Kingdom|           18|\n",
      "|   536365|   84406B|CREAM CUPID HEART...|       8|12/1/2010 8:26| 2.75|     17850|United Kingdom|           20|\n",
      "|   536365|   84029G|KNITTED UNION FLA...|       6|12/1/2010 8:26| 3.39|     17850|United Kingdom|           18|\n",
      "|   536365|   84029E|RED WOOLLY HOTTIE...|       6|12/1/2010 8:26| 3.39|     17850|United Kingdom|           18|\n",
      "|   536365|    21730|GLASS STAR FROSTE...|       6|12/1/2010 8:26| 4.25|     17850|United Kingdom|           18|\n",
      "|   536366|    22633|HAND WARMER UNION...|       6|12/1/2010 8:28| 1.85|     17850|United Kingdom|           18|\n",
      "|   536366|    22632|HAND WARMER RED P...|       6|12/1/2010 8:28| 1.85|     17850|United Kingdom|           18|\n",
      "|   536367|    22745|POPPY'S PLAYHOUSE...|       6|12/1/2010 8:34|  2.1|     13047|United Kingdom|           18|\n",
      "|   536367|    22748|POPPY'S PLAYHOUSE...|       6|12/1/2010 8:34|  2.1|     13047|United Kingdom|           18|\n",
      "|   536367|    22749|FELTCRAFT PRINCES...|       8|12/1/2010 8:34| 3.75|     13047|United Kingdom|           20|\n",
      "|   536367|    22310|IVORY KNITTED MUG...|       6|12/1/2010 8:34| 1.65|     13047|United Kingdom|           18|\n",
      "|   536367|    84969|BOX OF 6 ASSORTED...|       6|12/1/2010 8:34| 4.25|     13047|United Kingdom|           18|\n",
      "|   536367|    22623|BOX OF VINTAGE JI...|       3|12/1/2010 8:34| 4.95|     13047|United Kingdom|           15|\n",
      "|   536367|    21754|HOME BUILDING BLO...|       3|12/1/2010 8:34| 5.95|     13047|United Kingdom|           15|\n",
      "|   536367|    21755|LOVE BUILDING BLO...|       3|12/1/2010 8:34| 5.95|     13047|United Kingdom|           15|\n",
      "|   536367|    21777|RECIPE BOX WITH M...|       4|12/1/2010 8:34| 7.95|     13047|United Kingdom|           16|\n",
      "|   536367|    48187| DOORMAT NEW ENGLAND|       4|12/1/2010 8:34| 7.95|     13047|United Kingdom|           16|\n",
      "|   536368|    22960|JAM MAKING SET WI...|       6|12/1/2010 8:34| 4.25|     13047|United Kingdom|           18|\n",
      "|   536368|    22913|RED COAT RACK PAR...|       3|12/1/2010 8:34| 4.95|     13047|United Kingdom|           15|\n",
      "+---------+---------+--------------------+--------+--------------+-----+----------+--------------+-------------+\n",
      "only showing top 20 rows\n",
      "\n"
     ]
    }
   ],
   "source": [
    "df_pyspark.filter((df_pyspark['Quantity'] > 2) &\n",
    "                  (df_pyspark['Quantity'] < 24)).show()"
   ]
  },
  {
   "cell_type": "code",
   "execution_count": 28,
   "id": "368eb82a",
   "metadata": {},
   "outputs": [
    {
     "name": "stdout",
     "output_type": "stream",
     "text": [
      "+---------+---------+--------------------+--------+--------------+-----+----------+--------------+-------------+\n",
      "|InvoiceNo|StockCode|         Description|Quantity|   InvoiceDate|Price|CustomerID|       Country|Quantity + 12|\n",
      "+---------+---------+--------------------+--------+--------------+-----+----------+--------------+-------------+\n",
      "|   536365|   85123A|WHITE HANGING HEA...|       6|12/1/2010 8:26| 2.55|     17850|United Kingdom|           18|\n",
      "|   536365|    71053| WHITE METAL LANTERN|       6|12/1/2010 8:26| 3.39|     17850|United Kingdom|           18|\n",
      "|   536365|   84406B|CREAM CUPID HEART...|       8|12/1/2010 8:26| 2.75|     17850|United Kingdom|           20|\n",
      "|   536365|   84029G|KNITTED UNION FLA...|       6|12/1/2010 8:26| 3.39|     17850|United Kingdom|           18|\n",
      "|   536365|   84029E|RED WOOLLY HOTTIE...|       6|12/1/2010 8:26| 3.39|     17850|United Kingdom|           18|\n",
      "|   536365|    22752|SET 7 BABUSHKA NE...|       2|12/1/2010 8:26| 7.65|     17850|United Kingdom|           14|\n",
      "|   536365|    21730|GLASS STAR FROSTE...|       6|12/1/2010 8:26| 4.25|     17850|United Kingdom|           18|\n",
      "|   536366|    22633|HAND WARMER UNION...|       6|12/1/2010 8:28| 1.85|     17850|United Kingdom|           18|\n",
      "|   536366|    22632|HAND WARMER RED P...|       6|12/1/2010 8:28| 1.85|     17850|United Kingdom|           18|\n",
      "|   536367|    22745|POPPY'S PLAYHOUSE...|       6|12/1/2010 8:34|  2.1|     13047|United Kingdom|           18|\n",
      "|   536367|    22748|POPPY'S PLAYHOUSE...|       6|12/1/2010 8:34|  2.1|     13047|United Kingdom|           18|\n",
      "|   536367|    22749|FELTCRAFT PRINCES...|       8|12/1/2010 8:34| 3.75|     13047|United Kingdom|           20|\n",
      "|   536367|    22310|IVORY KNITTED MUG...|       6|12/1/2010 8:34| 1.65|     13047|United Kingdom|           18|\n",
      "|   536367|    84969|BOX OF 6 ASSORTED...|       6|12/1/2010 8:34| 4.25|     13047|United Kingdom|           18|\n",
      "|   536367|    22623|BOX OF VINTAGE JI...|       3|12/1/2010 8:34| 4.95|     13047|United Kingdom|           15|\n",
      "|   536367|    22622|BOX OF VINTAGE AL...|       2|12/1/2010 8:34| 9.95|     13047|United Kingdom|           14|\n",
      "|   536367|    21754|HOME BUILDING BLO...|       3|12/1/2010 8:34| 5.95|     13047|United Kingdom|           15|\n",
      "|   536367|    21755|LOVE BUILDING BLO...|       3|12/1/2010 8:34| 5.95|     13047|United Kingdom|           15|\n",
      "|   536367|    21777|RECIPE BOX WITH M...|       4|12/1/2010 8:34| 7.95|     13047|United Kingdom|           16|\n",
      "|   536367|    48187| DOORMAT NEW ENGLAND|       4|12/1/2010 8:34| 7.95|     13047|United Kingdom|           16|\n",
      "+---------+---------+--------------------+--------+--------------+-----+----------+--------------+-------------+\n",
      "only showing top 20 rows\n",
      "\n"
     ]
    }
   ],
   "source": [
    "df_pyspark.filter(~(df_pyspark['Quantity']>24)).show()"
   ]
  },
  {
   "cell_type": "markdown",
   "id": "80d5ffaa",
   "metadata": {},
   "source": [
    "### Group And Aggregration"
   ]
  },
  {
   "cell_type": "code",
   "execution_count": 31,
   "id": "8d135247",
   "metadata": {},
   "outputs": [
    {
     "name": "stdout",
     "output_type": "stream",
     "text": [
      "+--------------+--------+\n",
      "|       Country|Quantity|\n",
      "+--------------+--------+\n",
      "|United Kingdom|       6|\n",
      "|United Kingdom|       6|\n",
      "|United Kingdom|       8|\n",
      "|United Kingdom|       6|\n",
      "|United Kingdom|       6|\n",
      "|United Kingdom|       2|\n",
      "|United Kingdom|       6|\n",
      "|United Kingdom|       6|\n",
      "|United Kingdom|       6|\n",
      "|United Kingdom|      32|\n",
      "|United Kingdom|       6|\n",
      "|United Kingdom|       6|\n",
      "|United Kingdom|       8|\n",
      "|United Kingdom|       6|\n",
      "|United Kingdom|       6|\n",
      "|United Kingdom|       3|\n",
      "|United Kingdom|       2|\n",
      "|United Kingdom|       3|\n",
      "|United Kingdom|       3|\n",
      "|United Kingdom|       4|\n",
      "+--------------+--------+\n",
      "only showing top 20 rows\n",
      "\n"
     ]
    }
   ],
   "source": [
    "df_filtered = df_pyspark.select(['Country','Quantity'])\n",
    "df_filtered.show()"
   ]
  },
  {
   "cell_type": "code",
   "execution_count": 33,
   "id": "a29a5b0e",
   "metadata": {},
   "outputs": [
    {
     "name": "stdout",
     "output_type": "stream",
     "text": [
      "+---------------+-------------+\n",
      "|        Country|sum(Quantity)|\n",
      "+---------------+-------------+\n",
      "|         Sweden|        35637|\n",
      "|      Singapore|         5234|\n",
      "|        Germany|       117448|\n",
      "|         France|       110480|\n",
      "|         Greece|         1556|\n",
      "|        Belgium|        23152|\n",
      "|        Finland|        10666|\n",
      "|          Italy|         7999|\n",
      "|           EIRE|       142637|\n",
      "|      Lithuania|          652|\n",
      "|         Norway|        19247|\n",
      "|          Spain|        26824|\n",
      "|        Denmark|         8188|\n",
      "|      Hong Kong|         4769|\n",
      "|        Iceland|         2458|\n",
      "|         Israel|         4353|\n",
      "|Channel Islands|         9479|\n",
      "|         Cyprus|         6317|\n",
      "|    Switzerland|        30325|\n",
      "|        Lebanon|          386|\n",
      "+---------------+-------------+\n",
      "only showing top 20 rows\n",
      "\n"
     ]
    },
    {
     "name": "stderr",
     "output_type": "stream",
     "text": [
      "\r",
      "[Stage 24:==================================================>       (7 + 1) / 8]\r",
      "\r",
      "                                                                                \r"
     ]
    }
   ],
   "source": [
    "df_filtered.groupBy('Country').sum().show()"
   ]
  },
  {
   "cell_type": "code",
   "execution_count": null,
   "id": "6480895f",
   "metadata": {},
   "outputs": [],
   "source": []
  }
 ],
 "metadata": {
  "kernelspec": {
   "display_name": "Python 3 (ipykernel)",
   "language": "python",
   "name": "python3"
  },
  "language_info": {
   "codemirror_mode": {
    "name": "ipython",
    "version": 3
   },
   "file_extension": ".py",
   "mimetype": "text/x-python",
   "name": "python",
   "nbconvert_exporter": "python",
   "pygments_lexer": "ipython3",
   "version": "3.10.4"
  }
 },
 "nbformat": 4,
 "nbformat_minor": 5
}
